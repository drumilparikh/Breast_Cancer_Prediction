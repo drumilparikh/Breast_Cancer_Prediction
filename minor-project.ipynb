{
 "cells": [
  {
   "cell_type": "code",
   "execution_count": null,
   "id": "40b45188",
   "metadata": {
    "execution": {
     "iopub.execute_input": "2023-05-14T16:16:34.258948Z",
     "iopub.status.busy": "2023-05-14T16:16:34.258565Z",
     "iopub.status.idle": "2023-05-14T16:16:34.268029Z",
     "shell.execute_reply": "2023-05-14T16:16:34.267042Z",
     "shell.execute_reply.started": "2023-05-14T16:16:34.258916Z"
    }
   },
   "outputs": [],
   "source": []
  },
  {
   "cell_type": "code",
   "execution_count": 52,
   "id": "17470be4",
   "metadata": {
    "execution": {
     "iopub.execute_input": "2023-05-14T16:16:34.270371Z",
     "iopub.status.busy": "2023-05-14T16:16:34.269910Z",
     "iopub.status.idle": "2023-05-14T16:16:34.285006Z",
     "shell.execute_reply": "2023-05-14T16:16:34.284137Z",
     "shell.execute_reply.started": "2023-05-14T16:16:34.270337Z"
    }
   },
   "outputs": [],
   "source": [
    "import pandas as pd\n",
    "import numpy as np\n",
    "import matplotlib.pyplot as plt\n",
    "import seaborn as sns\n",
    "\n",
    "from sklearn.preprocessing import LabelEncoder\n",
    "from sklearn.preprocessing import StandardScaler\n",
    "from sklearn.neighbors import KNeighborsClassifier\n",
    "from sklearn.linear_model import LogisticRegression\n",
    "from sklearn.ensemble import RandomForestClassifier\n",
    "from sklearn.svm import SVC\n",
    "from xgboost import XGBClassifier\n",
    "from sklearn.ensemble import GradientBoostingClassifier\n",
    "from sklearn.ensemble import ExtraTreesClassifier\n",
    "from sklearn.ensemble import AdaBoostClassifier\n",
    "from sklearn.gaussian_process import GaussianProcessClassifier\n",
    "from sklearn.naive_bayes import GaussianNB\n",
    "from sklearn.ensemble import BaggingClassifier\n",
    "from sklearn.ensemble import VotingClassifier\n",
    "\n",
    "\n",
    "from sklearn.model_selection import cross_val_score\n",
    "from sklearn.model_selection import GridSearchCV\n",
    "from sklearn.model_selection import cross_val_predict\n",
    "from sklearn.model_selection import KFold\n",
    "from sklearn import model_selection\n",
    "from sklearn.metrics import classification_report\n",
    "from sklearn.metrics import accuracy_score\n",
    "from sklearn.metrics import precision_score\n",
    "\n",
    "\n",
    "import sys\n",
    "import warnings\n",
    "\n",
    "if not sys.warnoptions:\n",
    "    warnings.simplefilter(\"ignore\")\n",
    "\n",
    "from time import time"
   ]
  },
  {
   "cell_type": "code",
   "execution_count": 53,
   "id": "adabcec3",
   "metadata": {
    "execution": {
     "iopub.execute_input": "2023-05-14T16:16:34.287772Z",
     "iopub.status.busy": "2023-05-14T16:16:34.286330Z",
     "iopub.status.idle": "2023-05-14T16:16:34.298737Z",
     "shell.execute_reply": "2023-05-14T16:16:34.297990Z",
     "shell.execute_reply.started": "2023-05-14T16:16:34.287726Z"
    }
   },
   "outputs": [],
   "source": [
    "import pandas as pd\n",
    "import numpy as np"
   ]
  },
  {
   "cell_type": "code",
   "execution_count": 54,
   "id": "ac56803c",
   "metadata": {
    "execution": {
     "iopub.execute_input": "2023-05-14T16:16:34.301018Z",
     "iopub.status.busy": "2023-05-14T16:16:34.300563Z",
     "iopub.status.idle": "2023-05-14T16:16:34.313549Z",
     "shell.execute_reply": "2023-05-14T16:16:34.312504Z",
     "shell.execute_reply.started": "2023-05-14T16:16:34.300988Z"
    }
   },
   "outputs": [],
   "source": [
    "df=pd.read_csv('data(1).csv')"
   ]
  },
  {
   "cell_type": "code",
   "execution_count": 55,
   "id": "87e4a34f",
   "metadata": {
    "execution": {
     "iopub.execute_input": "2023-05-14T16:16:34.315957Z",
     "iopub.status.busy": "2023-05-14T16:16:34.314825Z",
     "iopub.status.idle": "2023-05-14T16:16:34.339577Z",
     "shell.execute_reply": "2023-05-14T16:16:34.338217Z",
     "shell.execute_reply.started": "2023-05-14T16:16:34.315890Z"
    }
   },
   "outputs": [
    {
     "data": {
      "text/html": [
       "<div>\n",
       "<style scoped>\n",
       "    .dataframe tbody tr th:only-of-type {\n",
       "        vertical-align: middle;\n",
       "    }\n",
       "\n",
       "    .dataframe tbody tr th {\n",
       "        vertical-align: top;\n",
       "    }\n",
       "\n",
       "    .dataframe thead th {\n",
       "        text-align: right;\n",
       "    }\n",
       "</style>\n",
       "<table border=\"1\" class=\"dataframe\">\n",
       "  <thead>\n",
       "    <tr style=\"text-align: right;\">\n",
       "      <th></th>\n",
       "      <th>id</th>\n",
       "      <th>diagnosis</th>\n",
       "      <th>radius_mean</th>\n",
       "      <th>texture_mean</th>\n",
       "      <th>perimeter_mean</th>\n",
       "      <th>area_mean</th>\n",
       "      <th>smoothness_mean</th>\n",
       "      <th>compactness_mean</th>\n",
       "      <th>concavity_mean</th>\n",
       "      <th>concave points_mean</th>\n",
       "      <th>...</th>\n",
       "      <th>texture_worst</th>\n",
       "      <th>perimeter_worst</th>\n",
       "      <th>area_worst</th>\n",
       "      <th>smoothness_worst</th>\n",
       "      <th>compactness_worst</th>\n",
       "      <th>concavity_worst</th>\n",
       "      <th>concave points_worst</th>\n",
       "      <th>symmetry_worst</th>\n",
       "      <th>fractal_dimension_worst</th>\n",
       "      <th>Unnamed: 32</th>\n",
       "    </tr>\n",
       "  </thead>\n",
       "  <tbody>\n",
       "    <tr>\n",
       "      <th>564</th>\n",
       "      <td>926424</td>\n",
       "      <td>M</td>\n",
       "      <td>21.56</td>\n",
       "      <td>22.39</td>\n",
       "      <td>142.00</td>\n",
       "      <td>1479.0</td>\n",
       "      <td>0.11100</td>\n",
       "      <td>0.11590</td>\n",
       "      <td>0.24390</td>\n",
       "      <td>0.13890</td>\n",
       "      <td>...</td>\n",
       "      <td>26.40</td>\n",
       "      <td>166.10</td>\n",
       "      <td>2027.0</td>\n",
       "      <td>0.14100</td>\n",
       "      <td>0.21130</td>\n",
       "      <td>0.4107</td>\n",
       "      <td>0.2216</td>\n",
       "      <td>0.2060</td>\n",
       "      <td>0.07115</td>\n",
       "      <td>NaN</td>\n",
       "    </tr>\n",
       "    <tr>\n",
       "      <th>565</th>\n",
       "      <td>926682</td>\n",
       "      <td>M</td>\n",
       "      <td>20.13</td>\n",
       "      <td>28.25</td>\n",
       "      <td>131.20</td>\n",
       "      <td>1261.0</td>\n",
       "      <td>0.09780</td>\n",
       "      <td>0.10340</td>\n",
       "      <td>0.14400</td>\n",
       "      <td>0.09791</td>\n",
       "      <td>...</td>\n",
       "      <td>38.25</td>\n",
       "      <td>155.00</td>\n",
       "      <td>1731.0</td>\n",
       "      <td>0.11660</td>\n",
       "      <td>0.19220</td>\n",
       "      <td>0.3215</td>\n",
       "      <td>0.1628</td>\n",
       "      <td>0.2572</td>\n",
       "      <td>0.06637</td>\n",
       "      <td>NaN</td>\n",
       "    </tr>\n",
       "    <tr>\n",
       "      <th>566</th>\n",
       "      <td>926954</td>\n",
       "      <td>M</td>\n",
       "      <td>16.60</td>\n",
       "      <td>28.08</td>\n",
       "      <td>108.30</td>\n",
       "      <td>858.1</td>\n",
       "      <td>0.08455</td>\n",
       "      <td>0.10230</td>\n",
       "      <td>0.09251</td>\n",
       "      <td>0.05302</td>\n",
       "      <td>...</td>\n",
       "      <td>34.12</td>\n",
       "      <td>126.70</td>\n",
       "      <td>1124.0</td>\n",
       "      <td>0.11390</td>\n",
       "      <td>0.30940</td>\n",
       "      <td>0.3403</td>\n",
       "      <td>0.1418</td>\n",
       "      <td>0.2218</td>\n",
       "      <td>0.07820</td>\n",
       "      <td>NaN</td>\n",
       "    </tr>\n",
       "    <tr>\n",
       "      <th>567</th>\n",
       "      <td>927241</td>\n",
       "      <td>M</td>\n",
       "      <td>20.60</td>\n",
       "      <td>29.33</td>\n",
       "      <td>140.10</td>\n",
       "      <td>1265.0</td>\n",
       "      <td>0.11780</td>\n",
       "      <td>0.27700</td>\n",
       "      <td>0.35140</td>\n",
       "      <td>0.15200</td>\n",
       "      <td>...</td>\n",
       "      <td>39.42</td>\n",
       "      <td>184.60</td>\n",
       "      <td>1821.0</td>\n",
       "      <td>0.16500</td>\n",
       "      <td>0.86810</td>\n",
       "      <td>0.9387</td>\n",
       "      <td>0.2650</td>\n",
       "      <td>0.4087</td>\n",
       "      <td>0.12400</td>\n",
       "      <td>NaN</td>\n",
       "    </tr>\n",
       "    <tr>\n",
       "      <th>568</th>\n",
       "      <td>92751</td>\n",
       "      <td>B</td>\n",
       "      <td>7.76</td>\n",
       "      <td>24.54</td>\n",
       "      <td>47.92</td>\n",
       "      <td>181.0</td>\n",
       "      <td>0.05263</td>\n",
       "      <td>0.04362</td>\n",
       "      <td>0.00000</td>\n",
       "      <td>0.00000</td>\n",
       "      <td>...</td>\n",
       "      <td>30.37</td>\n",
       "      <td>59.16</td>\n",
       "      <td>268.6</td>\n",
       "      <td>0.08996</td>\n",
       "      <td>0.06444</td>\n",
       "      <td>0.0000</td>\n",
       "      <td>0.0000</td>\n",
       "      <td>0.2871</td>\n",
       "      <td>0.07039</td>\n",
       "      <td>NaN</td>\n",
       "    </tr>\n",
       "  </tbody>\n",
       "</table>\n",
       "<p>5 rows × 33 columns</p>\n",
       "</div>"
      ],
      "text/plain": [
       "         id diagnosis  radius_mean  texture_mean  perimeter_mean  area_mean  \\\n",
       "564  926424         M        21.56         22.39          142.00     1479.0   \n",
       "565  926682         M        20.13         28.25          131.20     1261.0   \n",
       "566  926954         M        16.60         28.08          108.30      858.1   \n",
       "567  927241         M        20.60         29.33          140.10     1265.0   \n",
       "568   92751         B         7.76         24.54           47.92      181.0   \n",
       "\n",
       "     smoothness_mean  compactness_mean  concavity_mean  concave points_mean  \\\n",
       "564          0.11100           0.11590         0.24390              0.13890   \n",
       "565          0.09780           0.10340         0.14400              0.09791   \n",
       "566          0.08455           0.10230         0.09251              0.05302   \n",
       "567          0.11780           0.27700         0.35140              0.15200   \n",
       "568          0.05263           0.04362         0.00000              0.00000   \n",
       "\n",
       "     ...  texture_worst  perimeter_worst  area_worst  smoothness_worst  \\\n",
       "564  ...          26.40           166.10      2027.0           0.14100   \n",
       "565  ...          38.25           155.00      1731.0           0.11660   \n",
       "566  ...          34.12           126.70      1124.0           0.11390   \n",
       "567  ...          39.42           184.60      1821.0           0.16500   \n",
       "568  ...          30.37            59.16       268.6           0.08996   \n",
       "\n",
       "     compactness_worst  concavity_worst  concave points_worst  symmetry_worst  \\\n",
       "564            0.21130           0.4107                0.2216          0.2060   \n",
       "565            0.19220           0.3215                0.1628          0.2572   \n",
       "566            0.30940           0.3403                0.1418          0.2218   \n",
       "567            0.86810           0.9387                0.2650          0.4087   \n",
       "568            0.06444           0.0000                0.0000          0.2871   \n",
       "\n",
       "     fractal_dimension_worst  Unnamed: 32  \n",
       "564                  0.07115          NaN  \n",
       "565                  0.06637          NaN  \n",
       "566                  0.07820          NaN  \n",
       "567                  0.12400          NaN  \n",
       "568                  0.07039          NaN  \n",
       "\n",
       "[5 rows x 33 columns]"
      ]
     },
     "execution_count": 55,
     "metadata": {},
     "output_type": "execute_result"
    }
   ],
   "source": [
    "df.head()\n",
    "df.tail()"
   ]
  },
  {
   "cell_type": "code",
   "execution_count": 56,
   "id": "1d87e509",
   "metadata": {
    "execution": {
     "iopub.execute_input": "2023-05-14T16:16:34.341799Z",
     "iopub.status.busy": "2023-05-14T16:16:34.341366Z",
     "iopub.status.idle": "2023-05-14T16:16:34.348990Z",
     "shell.execute_reply": "2023-05-14T16:16:34.347344Z",
     "shell.execute_reply.started": "2023-05-14T16:16:34.341762Z"
    }
   },
   "outputs": [],
   "source": [
    "df = df.drop(['Unnamed: 32','id'],axis=1)"
   ]
  },
  {
   "cell_type": "code",
   "execution_count": 57,
   "id": "41f3328f",
   "metadata": {
    "execution": {
     "iopub.execute_input": "2023-05-14T16:16:34.350906Z",
     "iopub.status.busy": "2023-05-14T16:16:34.350489Z",
     "iopub.status.idle": "2023-05-14T16:16:34.369334Z",
     "shell.execute_reply": "2023-05-14T16:16:34.368468Z",
     "shell.execute_reply.started": "2023-05-14T16:16:34.350877Z"
    }
   },
   "outputs": [
    {
     "name": "stdout",
     "output_type": "stream",
     "text": [
      "<class 'pandas.core.frame.DataFrame'>\n",
      "RangeIndex: 569 entries, 0 to 568\n",
      "Data columns (total 31 columns):\n",
      " #   Column                   Non-Null Count  Dtype  \n",
      "---  ------                   --------------  -----  \n",
      " 0   diagnosis                569 non-null    object \n",
      " 1   radius_mean              569 non-null    float64\n",
      " 2   texture_mean             569 non-null    float64\n",
      " 3   perimeter_mean           569 non-null    float64\n",
      " 4   area_mean                569 non-null    float64\n",
      " 5   smoothness_mean          569 non-null    float64\n",
      " 6   compactness_mean         569 non-null    float64\n",
      " 7   concavity_mean           569 non-null    float64\n",
      " 8   concave points_mean      569 non-null    float64\n",
      " 9   symmetry_mean            569 non-null    float64\n",
      " 10  fractal_dimension_mean   569 non-null    float64\n",
      " 11  radius_se                569 non-null    float64\n",
      " 12  texture_se               569 non-null    float64\n",
      " 13  perimeter_se             569 non-null    float64\n",
      " 14  area_se                  569 non-null    float64\n",
      " 15  smoothness_se            569 non-null    float64\n",
      " 16  compactness_se           569 non-null    float64\n",
      " 17  concavity_se             569 non-null    float64\n",
      " 18  concave points_se        569 non-null    float64\n",
      " 19  symmetry_se              569 non-null    float64\n",
      " 20  fractal_dimension_se     569 non-null    float64\n",
      " 21  radius_worst             569 non-null    float64\n",
      " 22  texture_worst            569 non-null    float64\n",
      " 23  perimeter_worst          569 non-null    float64\n",
      " 24  area_worst               569 non-null    float64\n",
      " 25  smoothness_worst         569 non-null    float64\n",
      " 26  compactness_worst        569 non-null    float64\n",
      " 27  concavity_worst          569 non-null    float64\n",
      " 28  concave points_worst     569 non-null    float64\n",
      " 29  symmetry_worst           569 non-null    float64\n",
      " 30  fractal_dimension_worst  569 non-null    float64\n",
      "dtypes: float64(30), object(1)\n",
      "memory usage: 137.9+ KB\n"
     ]
    }
   ],
   "source": [
    "df.info()"
   ]
  },
  {
   "cell_type": "code",
   "execution_count": 58,
   "id": "3c6d8aec",
   "metadata": {
    "execution": {
     "iopub.execute_input": "2023-05-14T16:16:34.371821Z",
     "iopub.status.busy": "2023-05-14T16:16:34.370744Z",
     "iopub.status.idle": "2023-05-14T16:16:34.384226Z",
     "shell.execute_reply": "2023-05-14T16:16:34.382912Z",
     "shell.execute_reply.started": "2023-05-14T16:16:34.371761Z"
    }
   },
   "outputs": [
    {
     "data": {
      "text/plain": [
       "array(['M', 'B'], dtype=object)"
      ]
     },
     "execution_count": 58,
     "metadata": {},
     "output_type": "execute_result"
    }
   ],
   "source": [
    "df.diagnosis.unique()\n"
   ]
  },
  {
   "cell_type": "code",
   "execution_count": 59,
   "id": "d7767980",
   "metadata": {
    "execution": {
     "iopub.execute_input": "2023-05-14T16:16:34.513559Z",
     "iopub.status.busy": "2023-05-14T16:16:34.513189Z",
     "iopub.status.idle": "2023-05-14T16:16:34.528754Z",
     "shell.execute_reply": "2023-05-14T16:16:34.527114Z",
     "shell.execute_reply.started": "2023-05-14T16:16:34.513527Z"
    }
   },
   "outputs": [
    {
     "data": {
      "text/html": [
       "<div>\n",
       "<style scoped>\n",
       "    .dataframe tbody tr th:only-of-type {\n",
       "        vertical-align: middle;\n",
       "    }\n",
       "\n",
       "    .dataframe tbody tr th {\n",
       "        vertical-align: top;\n",
       "    }\n",
       "\n",
       "    .dataframe thead th {\n",
       "        text-align: right;\n",
       "    }\n",
       "</style>\n",
       "<table border=\"1\" class=\"dataframe\">\n",
       "  <thead>\n",
       "    <tr style=\"text-align: right;\">\n",
       "      <th></th>\n",
       "      <th>radius_mean</th>\n",
       "      <th>radius_se</th>\n",
       "      <th>radius_worst</th>\n",
       "    </tr>\n",
       "  </thead>\n",
       "  <tbody>\n",
       "    <tr>\n",
       "      <th>0</th>\n",
       "      <td>17.99</td>\n",
       "      <td>1.0950</td>\n",
       "      <td>25.380</td>\n",
       "    </tr>\n",
       "    <tr>\n",
       "      <th>1</th>\n",
       "      <td>20.57</td>\n",
       "      <td>0.5435</td>\n",
       "      <td>24.990</td>\n",
       "    </tr>\n",
       "    <tr>\n",
       "      <th>2</th>\n",
       "      <td>19.69</td>\n",
       "      <td>0.7456</td>\n",
       "      <td>23.570</td>\n",
       "    </tr>\n",
       "    <tr>\n",
       "      <th>3</th>\n",
       "      <td>11.42</td>\n",
       "      <td>0.4956</td>\n",
       "      <td>14.910</td>\n",
       "    </tr>\n",
       "    <tr>\n",
       "      <th>4</th>\n",
       "      <td>20.29</td>\n",
       "      <td>0.7572</td>\n",
       "      <td>22.540</td>\n",
       "    </tr>\n",
       "    <tr>\n",
       "      <th>...</th>\n",
       "      <td>...</td>\n",
       "      <td>...</td>\n",
       "      <td>...</td>\n",
       "    </tr>\n",
       "    <tr>\n",
       "      <th>564</th>\n",
       "      <td>21.56</td>\n",
       "      <td>1.1760</td>\n",
       "      <td>25.450</td>\n",
       "    </tr>\n",
       "    <tr>\n",
       "      <th>565</th>\n",
       "      <td>20.13</td>\n",
       "      <td>0.7655</td>\n",
       "      <td>23.690</td>\n",
       "    </tr>\n",
       "    <tr>\n",
       "      <th>566</th>\n",
       "      <td>16.60</td>\n",
       "      <td>0.4564</td>\n",
       "      <td>18.980</td>\n",
       "    </tr>\n",
       "    <tr>\n",
       "      <th>567</th>\n",
       "      <td>20.60</td>\n",
       "      <td>0.7260</td>\n",
       "      <td>25.740</td>\n",
       "    </tr>\n",
       "    <tr>\n",
       "      <th>568</th>\n",
       "      <td>7.76</td>\n",
       "      <td>0.3857</td>\n",
       "      <td>9.456</td>\n",
       "    </tr>\n",
       "  </tbody>\n",
       "</table>\n",
       "<p>569 rows × 3 columns</p>\n",
       "</div>"
      ],
      "text/plain": [
       "     radius_mean  radius_se  radius_worst\n",
       "0          17.99     1.0950        25.380\n",
       "1          20.57     0.5435        24.990\n",
       "2          19.69     0.7456        23.570\n",
       "3          11.42     0.4956        14.910\n",
       "4          20.29     0.7572        22.540\n",
       "..           ...        ...           ...\n",
       "564        21.56     1.1760        25.450\n",
       "565        20.13     0.7655        23.690\n",
       "566        16.60     0.4564        18.980\n",
       "567        20.60     0.7260        25.740\n",
       "568         7.76     0.3857         9.456\n",
       "\n",
       "[569 rows x 3 columns]"
      ]
     },
     "execution_count": 59,
     "metadata": {},
     "output_type": "execute_result"
    }
   ],
   "source": [
    "df[['radius_mean','radius_se','radius_worst']]"
   ]
  },
  {
   "cell_type": "code",
   "execution_count": 60,
   "id": "6f7c3228",
   "metadata": {
    "execution": {
     "iopub.execute_input": "2023-05-14T16:16:34.532212Z",
     "iopub.status.busy": "2023-05-14T16:16:34.531327Z",
     "iopub.status.idle": "2023-05-14T16:16:34.539931Z",
     "shell.execute_reply": "2023-05-14T16:16:34.538842Z",
     "shell.execute_reply.started": "2023-05-14T16:16:34.532129Z"
    }
   },
   "outputs": [
    {
     "name": "stdout",
     "output_type": "stream",
     "text": [
      "['radius_mean', 'texture_mean', 'perimeter_mean', 'area_mean', 'smoothness_mean', 'compactness_mean', 'concavity_mean', 'concave points_mean', 'symmetry_mean', 'fractal_dimension_mean']\n",
      "-----------------------------------\n",
      "['radius_se', 'texture_se', 'perimeter_se', 'area_se', 'smoothness_se', 'compactness_se', 'concavity_se', 'concave points_se', 'symmetry_se']\n",
      "------------------------------------\n",
      "['radius_worst', 'texture_worst', 'perimeter_worst', 'area_worst', 'smoothness_worst', 'compactness_worst', 'concavity_worst', 'concave points_worst', 'symmetry_worst', 'fractal_dimension_worst']\n"
     ]
    }
   ],
   "source": [
    "features_mean= list(df.columns[1:11])\n",
    "features_se= list(df.columns[11:20])\n",
    "features_worst=list(df.columns[21:31])\n",
    "print(features_mean)\n",
    "print(\"-----------------------------------\")\n",
    "print(features_se)\n",
    "print(\"------------------------------------\")\n",
    "print(features_worst)"
   ]
  },
  {
   "cell_type": "code",
   "execution_count": null,
   "id": "a728f0e1",
   "metadata": {
    "execution": {
     "iopub.execute_input": "2023-05-14T16:16:34.541961Z",
     "iopub.status.busy": "2023-05-14T16:16:34.541465Z",
     "iopub.status.idle": "2023-05-14T16:16:34.556130Z",
     "shell.execute_reply": "2023-05-14T16:16:34.555389Z",
     "shell.execute_reply.started": "2023-05-14T16:16:34.541923Z"
    }
   },
   "outputs": [],
   "source": []
  },
  {
   "cell_type": "code",
   "execution_count": 61,
   "id": "aa8a7d1a",
   "metadata": {
    "execution": {
     "iopub.execute_input": "2023-05-14T16:16:34.557190Z",
     "iopub.status.busy": "2023-05-14T16:16:34.556931Z",
     "iopub.status.idle": "2023-05-14T16:16:34.628317Z",
     "shell.execute_reply": "2023-05-14T16:16:34.627488Z",
     "shell.execute_reply.started": "2023-05-14T16:16:34.557137Z"
    },
    "scrolled": true
   },
   "outputs": [
    {
     "data": {
      "text/html": [
       "<div>\n",
       "<style scoped>\n",
       "    .dataframe tbody tr th:only-of-type {\n",
       "        vertical-align: middle;\n",
       "    }\n",
       "\n",
       "    .dataframe tbody tr th {\n",
       "        vertical-align: top;\n",
       "    }\n",
       "\n",
       "    .dataframe thead th {\n",
       "        text-align: right;\n",
       "    }\n",
       "</style>\n",
       "<table border=\"1\" class=\"dataframe\">\n",
       "  <thead>\n",
       "    <tr style=\"text-align: right;\">\n",
       "      <th></th>\n",
       "      <th>radius_mean</th>\n",
       "      <th>texture_mean</th>\n",
       "      <th>perimeter_mean</th>\n",
       "      <th>area_mean</th>\n",
       "      <th>smoothness_mean</th>\n",
       "      <th>compactness_mean</th>\n",
       "      <th>concavity_mean</th>\n",
       "      <th>concave points_mean</th>\n",
       "      <th>symmetry_mean</th>\n",
       "      <th>fractal_dimension_mean</th>\n",
       "      <th>...</th>\n",
       "      <th>radius_worst</th>\n",
       "      <th>texture_worst</th>\n",
       "      <th>perimeter_worst</th>\n",
       "      <th>area_worst</th>\n",
       "      <th>smoothness_worst</th>\n",
       "      <th>compactness_worst</th>\n",
       "      <th>concavity_worst</th>\n",
       "      <th>concave points_worst</th>\n",
       "      <th>symmetry_worst</th>\n",
       "      <th>fractal_dimension_worst</th>\n",
       "    </tr>\n",
       "  </thead>\n",
       "  <tbody>\n",
       "    <tr>\n",
       "      <th>count</th>\n",
       "      <td>569.000000</td>\n",
       "      <td>569.000000</td>\n",
       "      <td>569.000000</td>\n",
       "      <td>569.000000</td>\n",
       "      <td>569.000000</td>\n",
       "      <td>569.000000</td>\n",
       "      <td>569.000000</td>\n",
       "      <td>569.000000</td>\n",
       "      <td>569.000000</td>\n",
       "      <td>569.000000</td>\n",
       "      <td>...</td>\n",
       "      <td>569.000000</td>\n",
       "      <td>569.000000</td>\n",
       "      <td>569.000000</td>\n",
       "      <td>569.000000</td>\n",
       "      <td>569.000000</td>\n",
       "      <td>569.000000</td>\n",
       "      <td>569.000000</td>\n",
       "      <td>569.000000</td>\n",
       "      <td>569.000000</td>\n",
       "      <td>569.000000</td>\n",
       "    </tr>\n",
       "    <tr>\n",
       "      <th>mean</th>\n",
       "      <td>14.127292</td>\n",
       "      <td>19.289649</td>\n",
       "      <td>91.969033</td>\n",
       "      <td>654.889104</td>\n",
       "      <td>0.096360</td>\n",
       "      <td>0.104341</td>\n",
       "      <td>0.088799</td>\n",
       "      <td>0.048919</td>\n",
       "      <td>0.181162</td>\n",
       "      <td>0.062798</td>\n",
       "      <td>...</td>\n",
       "      <td>16.269190</td>\n",
       "      <td>25.677223</td>\n",
       "      <td>107.261213</td>\n",
       "      <td>880.583128</td>\n",
       "      <td>0.132369</td>\n",
       "      <td>0.254265</td>\n",
       "      <td>0.272188</td>\n",
       "      <td>0.114606</td>\n",
       "      <td>0.290076</td>\n",
       "      <td>0.083946</td>\n",
       "    </tr>\n",
       "    <tr>\n",
       "      <th>std</th>\n",
       "      <td>3.524049</td>\n",
       "      <td>4.301036</td>\n",
       "      <td>24.298981</td>\n",
       "      <td>351.914129</td>\n",
       "      <td>0.014064</td>\n",
       "      <td>0.052813</td>\n",
       "      <td>0.079720</td>\n",
       "      <td>0.038803</td>\n",
       "      <td>0.027414</td>\n",
       "      <td>0.007060</td>\n",
       "      <td>...</td>\n",
       "      <td>4.833242</td>\n",
       "      <td>6.146258</td>\n",
       "      <td>33.602542</td>\n",
       "      <td>569.356993</td>\n",
       "      <td>0.022832</td>\n",
       "      <td>0.157336</td>\n",
       "      <td>0.208624</td>\n",
       "      <td>0.065732</td>\n",
       "      <td>0.061867</td>\n",
       "      <td>0.018061</td>\n",
       "    </tr>\n",
       "    <tr>\n",
       "      <th>min</th>\n",
       "      <td>6.981000</td>\n",
       "      <td>9.710000</td>\n",
       "      <td>43.790000</td>\n",
       "      <td>143.500000</td>\n",
       "      <td>0.052630</td>\n",
       "      <td>0.019380</td>\n",
       "      <td>0.000000</td>\n",
       "      <td>0.000000</td>\n",
       "      <td>0.106000</td>\n",
       "      <td>0.049960</td>\n",
       "      <td>...</td>\n",
       "      <td>7.930000</td>\n",
       "      <td>12.020000</td>\n",
       "      <td>50.410000</td>\n",
       "      <td>185.200000</td>\n",
       "      <td>0.071170</td>\n",
       "      <td>0.027290</td>\n",
       "      <td>0.000000</td>\n",
       "      <td>0.000000</td>\n",
       "      <td>0.156500</td>\n",
       "      <td>0.055040</td>\n",
       "    </tr>\n",
       "    <tr>\n",
       "      <th>25%</th>\n",
       "      <td>11.700000</td>\n",
       "      <td>16.170000</td>\n",
       "      <td>75.170000</td>\n",
       "      <td>420.300000</td>\n",
       "      <td>0.086370</td>\n",
       "      <td>0.064920</td>\n",
       "      <td>0.029560</td>\n",
       "      <td>0.020310</td>\n",
       "      <td>0.161900</td>\n",
       "      <td>0.057700</td>\n",
       "      <td>...</td>\n",
       "      <td>13.010000</td>\n",
       "      <td>21.080000</td>\n",
       "      <td>84.110000</td>\n",
       "      <td>515.300000</td>\n",
       "      <td>0.116600</td>\n",
       "      <td>0.147200</td>\n",
       "      <td>0.114500</td>\n",
       "      <td>0.064930</td>\n",
       "      <td>0.250400</td>\n",
       "      <td>0.071460</td>\n",
       "    </tr>\n",
       "    <tr>\n",
       "      <th>50%</th>\n",
       "      <td>13.370000</td>\n",
       "      <td>18.840000</td>\n",
       "      <td>86.240000</td>\n",
       "      <td>551.100000</td>\n",
       "      <td>0.095870</td>\n",
       "      <td>0.092630</td>\n",
       "      <td>0.061540</td>\n",
       "      <td>0.033500</td>\n",
       "      <td>0.179200</td>\n",
       "      <td>0.061540</td>\n",
       "      <td>...</td>\n",
       "      <td>14.970000</td>\n",
       "      <td>25.410000</td>\n",
       "      <td>97.660000</td>\n",
       "      <td>686.500000</td>\n",
       "      <td>0.131300</td>\n",
       "      <td>0.211900</td>\n",
       "      <td>0.226700</td>\n",
       "      <td>0.099930</td>\n",
       "      <td>0.282200</td>\n",
       "      <td>0.080040</td>\n",
       "    </tr>\n",
       "    <tr>\n",
       "      <th>75%</th>\n",
       "      <td>15.780000</td>\n",
       "      <td>21.800000</td>\n",
       "      <td>104.100000</td>\n",
       "      <td>782.700000</td>\n",
       "      <td>0.105300</td>\n",
       "      <td>0.130400</td>\n",
       "      <td>0.130700</td>\n",
       "      <td>0.074000</td>\n",
       "      <td>0.195700</td>\n",
       "      <td>0.066120</td>\n",
       "      <td>...</td>\n",
       "      <td>18.790000</td>\n",
       "      <td>29.720000</td>\n",
       "      <td>125.400000</td>\n",
       "      <td>1084.000000</td>\n",
       "      <td>0.146000</td>\n",
       "      <td>0.339100</td>\n",
       "      <td>0.382900</td>\n",
       "      <td>0.161400</td>\n",
       "      <td>0.317900</td>\n",
       "      <td>0.092080</td>\n",
       "    </tr>\n",
       "    <tr>\n",
       "      <th>max</th>\n",
       "      <td>28.110000</td>\n",
       "      <td>39.280000</td>\n",
       "      <td>188.500000</td>\n",
       "      <td>2501.000000</td>\n",
       "      <td>0.163400</td>\n",
       "      <td>0.345400</td>\n",
       "      <td>0.426800</td>\n",
       "      <td>0.201200</td>\n",
       "      <td>0.304000</td>\n",
       "      <td>0.097440</td>\n",
       "      <td>...</td>\n",
       "      <td>36.040000</td>\n",
       "      <td>49.540000</td>\n",
       "      <td>251.200000</td>\n",
       "      <td>4254.000000</td>\n",
       "      <td>0.222600</td>\n",
       "      <td>1.058000</td>\n",
       "      <td>1.252000</td>\n",
       "      <td>0.291000</td>\n",
       "      <td>0.663800</td>\n",
       "      <td>0.207500</td>\n",
       "    </tr>\n",
       "  </tbody>\n",
       "</table>\n",
       "<p>8 rows × 30 columns</p>\n",
       "</div>"
      ],
      "text/plain": [
       "       radius_mean  texture_mean  perimeter_mean    area_mean  \\\n",
       "count   569.000000    569.000000      569.000000   569.000000   \n",
       "mean     14.127292     19.289649       91.969033   654.889104   \n",
       "std       3.524049      4.301036       24.298981   351.914129   \n",
       "min       6.981000      9.710000       43.790000   143.500000   \n",
       "25%      11.700000     16.170000       75.170000   420.300000   \n",
       "50%      13.370000     18.840000       86.240000   551.100000   \n",
       "75%      15.780000     21.800000      104.100000   782.700000   \n",
       "max      28.110000     39.280000      188.500000  2501.000000   \n",
       "\n",
       "       smoothness_mean  compactness_mean  concavity_mean  concave points_mean  \\\n",
       "count       569.000000        569.000000      569.000000           569.000000   \n",
       "mean          0.096360          0.104341        0.088799             0.048919   \n",
       "std           0.014064          0.052813        0.079720             0.038803   \n",
       "min           0.052630          0.019380        0.000000             0.000000   \n",
       "25%           0.086370          0.064920        0.029560             0.020310   \n",
       "50%           0.095870          0.092630        0.061540             0.033500   \n",
       "75%           0.105300          0.130400        0.130700             0.074000   \n",
       "max           0.163400          0.345400        0.426800             0.201200   \n",
       "\n",
       "       symmetry_mean  fractal_dimension_mean  ...  radius_worst  \\\n",
       "count     569.000000              569.000000  ...    569.000000   \n",
       "mean        0.181162                0.062798  ...     16.269190   \n",
       "std         0.027414                0.007060  ...      4.833242   \n",
       "min         0.106000                0.049960  ...      7.930000   \n",
       "25%         0.161900                0.057700  ...     13.010000   \n",
       "50%         0.179200                0.061540  ...     14.970000   \n",
       "75%         0.195700                0.066120  ...     18.790000   \n",
       "max         0.304000                0.097440  ...     36.040000   \n",
       "\n",
       "       texture_worst  perimeter_worst   area_worst  smoothness_worst  \\\n",
       "count     569.000000       569.000000   569.000000        569.000000   \n",
       "mean       25.677223       107.261213   880.583128          0.132369   \n",
       "std         6.146258        33.602542   569.356993          0.022832   \n",
       "min        12.020000        50.410000   185.200000          0.071170   \n",
       "25%        21.080000        84.110000   515.300000          0.116600   \n",
       "50%        25.410000        97.660000   686.500000          0.131300   \n",
       "75%        29.720000       125.400000  1084.000000          0.146000   \n",
       "max        49.540000       251.200000  4254.000000          0.222600   \n",
       "\n",
       "       compactness_worst  concavity_worst  concave points_worst  \\\n",
       "count         569.000000       569.000000            569.000000   \n",
       "mean            0.254265         0.272188              0.114606   \n",
       "std             0.157336         0.208624              0.065732   \n",
       "min             0.027290         0.000000              0.000000   \n",
       "25%             0.147200         0.114500              0.064930   \n",
       "50%             0.211900         0.226700              0.099930   \n",
       "75%             0.339100         0.382900              0.161400   \n",
       "max             1.058000         1.252000              0.291000   \n",
       "\n",
       "       symmetry_worst  fractal_dimension_worst  \n",
       "count      569.000000               569.000000  \n",
       "mean         0.290076                 0.083946  \n",
       "std          0.061867                 0.018061  \n",
       "min          0.156500                 0.055040  \n",
       "25%          0.250400                 0.071460  \n",
       "50%          0.282200                 0.080040  \n",
       "75%          0.317900                 0.092080  \n",
       "max          0.663800                 0.207500  \n",
       "\n",
       "[8 rows x 30 columns]"
      ]
     },
     "execution_count": 61,
     "metadata": {},
     "output_type": "execute_result"
    }
   ],
   "source": [
    "df.describe()"
   ]
  },
  {
   "cell_type": "code",
   "execution_count": 62,
   "id": "c85274c3",
   "metadata": {
    "execution": {
     "iopub.execute_input": "2023-05-14T16:16:34.632863Z",
     "iopub.status.busy": "2023-05-14T16:16:34.632560Z",
     "iopub.status.idle": "2023-05-14T16:16:34.650237Z",
     "shell.execute_reply": "2023-05-14T16:16:34.649165Z",
     "shell.execute_reply.started": "2023-05-14T16:16:34.632836Z"
    }
   },
   "outputs": [],
   "source": [
    "#Binary encoding of the diagnosis column using label encoder\n",
    "from sklearn import preprocessing\n",
    "le = preprocessing.LabelEncoder()\n",
    "df.diagnosis=le.fit_transform(df.diagnosis)\n",
    "df.head()\n",
    "df.to_csv('clean_data.csv')"
   ]
  },
  {
   "cell_type": "code",
   "execution_count": 63,
   "id": "22dec5b5",
   "metadata": {
    "execution": {
     "iopub.execute_input": "2023-05-14T16:16:34.652040Z",
     "iopub.status.busy": "2023-05-14T16:16:34.651738Z",
     "iopub.status.idle": "2023-05-14T16:16:34.662154Z",
     "shell.execute_reply": "2023-05-14T16:16:34.661014Z",
     "shell.execute_reply.started": "2023-05-14T16:16:34.652013Z"
    }
   },
   "outputs": [],
   "source": [
    "df=pd.read_csv('clean_data.csv')"
   ]
  },
  {
   "cell_type": "code",
   "execution_count": 64,
   "id": "b857a313",
   "metadata": {
    "execution": {
     "iopub.execute_input": "2023-05-14T16:16:34.663676Z",
     "iopub.status.busy": "2023-05-14T16:16:34.663273Z",
     "iopub.status.idle": "2023-05-14T16:16:34.673967Z",
     "shell.execute_reply": "2023-05-14T16:16:34.672925Z",
     "shell.execute_reply.started": "2023-05-14T16:16:34.663650Z"
    }
   },
   "outputs": [],
   "source": [
    "df = df.drop(['Unnamed: 0'],axis=1)"
   ]
  },
  {
   "cell_type": "code",
   "execution_count": null,
   "id": "5920a5b2",
   "metadata": {},
   "outputs": [],
   "source": []
  },
  {
   "cell_type": "code",
   "execution_count": null,
   "id": "032a37fe",
   "metadata": {},
   "outputs": [],
   "source": []
  },
  {
   "cell_type": "code",
   "execution_count": 65,
   "id": "ce5e7c38",
   "metadata": {
    "execution": {
     "iopub.execute_input": "2023-05-14T16:16:34.675964Z",
     "iopub.status.busy": "2023-05-14T16:16:34.675658Z",
     "iopub.status.idle": "2023-05-14T16:16:35.375447Z",
     "shell.execute_reply": "2023-05-14T16:16:35.373973Z",
     "shell.execute_reply.started": "2023-05-14T16:16:34.675936Z"
    }
   },
   "outputs": [
    {
     "data": {
      "text/plain": [
       "<Axes: >"
      ]
     },
     "execution_count": 65,
     "metadata": {},
     "output_type": "execute_result"
    },
    {
     "data": {
      "image/png": "[encoded data removed]",
      "text/plain": [
       "<Figure size 1000x1000 with 2 Axes>"
      ]
     },
     "metadata": {},
     "output_type": "display_data"
    }
   ],
   "source": [
    "corr_matrix = df[features_mean].corr()\n",
    "plt.figure(figsize=(10,10))\n",
    "sns.heatmap(corr_matrix, cbar = True,  annot=True, fmt= '.2f',annot_kws={'size': 15},\n",
    "           xticklabels= features_mean, yticklabels= features_mean,\n",
    "           cmap= 'coolwarm')"
   ]
  },
  {
   "cell_type": "code",
   "execution_count": 66,
   "id": "3e95f666",
   "metadata": {
    "execution": {
     "iopub.execute_input": "2023-05-14T16:16:35.376893Z",
     "iopub.status.busy": "2023-05-14T16:16:35.376602Z",
     "iopub.status.idle": "2023-05-14T16:16:35.384999Z",
     "shell.execute_reply": "2023-05-14T16:16:35.383180Z",
     "shell.execute_reply.started": "2023-05-14T16:16:35.376863Z"
    }
   },
   "outputs": [],
   "source": [
    "df = df.drop(['perimeter_mean','perimeter_se','perimeter_worst','area_mean','area_se','area_worst','concavity_mean','concavity_se','concavity_worst','concave points_mean','concave points_se','concave points_worst'],axis=1)"
   ]
  },
  {
   "cell_type": "code",
   "execution_count": 67,
   "id": "eca5bdaa",
   "metadata": {
    "execution": {
     "iopub.execute_input": "2023-05-14T16:16:35.387313Z",
     "iopub.status.busy": "2023-05-14T16:16:35.386531Z",
     "iopub.status.idle": "2023-05-14T16:16:35.401508Z",
     "shell.execute_reply": "2023-05-14T16:16:35.400374Z",
     "shell.execute_reply.started": "2023-05-14T16:16:35.387264Z"
    }
   },
   "outputs": [
    {
     "data": {
      "text/plain": [
       "((398, 18), (398,), (171, 18), (171,))"
      ]
     },
     "execution_count": 67,
     "metadata": {},
     "output_type": "execute_result"
    }
   ],
   "source": [
    "#y is the dependent variable \n",
    "#X is the feature columns\n",
    "#Taking 30% of the data out for testing\n",
    "\n",
    "from sklearn.model_selection import train_test_split\n",
    "\n",
    "y=df['diagnosis']\n",
    "X=df.drop(['diagnosis'],axis=1)\n",
    "X_train, X_test, y_train, y_test = train_test_split( X, y, test_size=0.3, random_state=7)\n",
    "X_train.shape, y_train.shape, X_test.shape, y_test.shape"
   ]
  },
  {
   "cell_type": "code",
   "execution_count": 68,
   "id": "06157821",
   "metadata": {
    "execution": {
     "iopub.execute_input": "2023-05-14T16:16:35.402930Z",
     "iopub.status.busy": "2023-05-14T16:16:35.402580Z",
     "iopub.status.idle": "2023-05-14T16:16:35.423147Z",
     "shell.execute_reply": "2023-05-14T16:16:35.421937Z",
     "shell.execute_reply.started": "2023-05-14T16:16:35.402903Z"
    }
   },
   "outputs": [],
   "source": [
    "#Feature Standardization \n",
    "from sklearn.preprocessing import StandardScaler\n",
    "\n",
    "scaler =StandardScaler()\n",
    "\n",
    "X_train = pd.DataFrame(scaler.fit_transform(X_train),columns = X_train.columns)\n",
    "X_test = pd.DataFrame(scaler.fit_transform(X_test),columns = X_test.columns)\n"
   ]
  },
  {
   "cell_type": "code",
   "execution_count": 93,
   "id": "2df38ba1",
   "metadata": {
    "execution": {
     "iopub.execute_input": "2023-05-14T16:16:35.425322Z",
     "iopub.status.busy": "2023-05-14T16:16:35.424901Z",
     "iopub.status.idle": "2023-05-14T16:16:42.258274Z",
     "shell.execute_reply": "2023-05-14T16:16:42.256719Z",
     "shell.execute_reply.started": "2023-05-14T16:16:35.425292Z"
    }
   },
   "outputs": [
    {
     "name": "stdout",
     "output_type": "stream",
     "text": [
      "11\n"
     ]
    }
   ],
   "source": [
    "ran = RandomForestClassifier(random_state=1)\n",
    "knn = KNeighborsClassifier()\n",
    "log = LogisticRegression()\n",
    "xgb = XGBClassifier()\n",
    "gbc = GradientBoostingClassifier()\n",
    "svc = SVC(probability=True)\n",
    "ext = ExtraTreesClassifier()\n",
    "ada = AdaBoostClassifier()\n",
    "gnb = GaussianNB()\n",
    "gpc = GaussianProcessClassifier()\n",
    "bag = BaggingClassifier()\n",
    "\n",
    "# Prepare lists\n",
    "models = [ran, knn, log, xgb, gbc, svc, ext, ada, gnb, gpc, bag]         \n",
    "scores = []\n",
    "\n",
    "# Sequentially fit and cross validate all models\n",
    "for mod in models:\n",
    "    mod.fit(X_train, y_train)\n",
    "    acc = cross_val_score(mod, X_test, y_test, scoring = \"accuracy\", cv = 10)\n",
    "    scores.append(acc.mean())\n",
    "\n",
    "print(len(scores))"
   ]
  },
  {
   "cell_type": "code",
   "execution_count": 70,
   "id": "99e5f88c",
   "metadata": {
    "execution": {
     "iopub.execute_input": "2023-05-14T16:16:42.260092Z",
     "iopub.status.busy": "2023-05-14T16:16:42.259757Z",
     "iopub.status.idle": "2023-05-14T16:16:42.274091Z",
     "shell.execute_reply": "2023-05-14T16:16:42.272611Z",
     "shell.execute_reply.started": "2023-05-14T16:16:42.260062Z"
    }
   },
   "outputs": [
    {
     "data": {
      "text/html": [
       "<div>\n",
       "<style scoped>\n",
       "    .dataframe tbody tr th:only-of-type {\n",
       "        vertical-align: middle;\n",
       "    }\n",
       "\n",
       "    .dataframe tbody tr th {\n",
       "        vertical-align: top;\n",
       "    }\n",
       "\n",
       "    .dataframe thead th {\n",
       "        text-align: right;\n",
       "    }\n",
       "</style>\n",
       "<table border=\"1\" class=\"dataframe\">\n",
       "  <thead>\n",
       "    <tr style=\"text-align: right;\">\n",
       "      <th></th>\n",
       "      <th>Model</th>\n",
       "      <th>Score</th>\n",
       "    </tr>\n",
       "  </thead>\n",
       "  <tbody>\n",
       "    <tr>\n",
       "      <th>0</th>\n",
       "      <td>AdaBoost</td>\n",
       "      <td>0.965033</td>\n",
       "    </tr>\n",
       "    <tr>\n",
       "      <th>1</th>\n",
       "      <td>XGBoost</td>\n",
       "      <td>0.959477</td>\n",
       "    </tr>\n",
       "    <tr>\n",
       "      <th>2</th>\n",
       "      <td>Logistic Regression</td>\n",
       "      <td>0.959150</td>\n",
       "    </tr>\n",
       "    <tr>\n",
       "      <th>3</th>\n",
       "      <td>Extra Trees</td>\n",
       "      <td>0.959150</td>\n",
       "    </tr>\n",
       "    <tr>\n",
       "      <th>4</th>\n",
       "      <td>Random Forest</td>\n",
       "      <td>0.947712</td>\n",
       "    </tr>\n",
       "    <tr>\n",
       "      <th>5</th>\n",
       "      <td>K Nearest Neighbour</td>\n",
       "      <td>0.941503</td>\n",
       "    </tr>\n",
       "    <tr>\n",
       "      <th>6</th>\n",
       "      <td>Gradient Boosting</td>\n",
       "      <td>0.941503</td>\n",
       "    </tr>\n",
       "    <tr>\n",
       "      <th>7</th>\n",
       "      <td>SVC</td>\n",
       "      <td>0.941503</td>\n",
       "    </tr>\n",
       "    <tr>\n",
       "      <th>8</th>\n",
       "      <td>Gaussian Process</td>\n",
       "      <td>0.941503</td>\n",
       "    </tr>\n",
       "    <tr>\n",
       "      <th>9</th>\n",
       "      <td>Bagging Classifier</td>\n",
       "      <td>0.924183</td>\n",
       "    </tr>\n",
       "    <tr>\n",
       "      <th>10</th>\n",
       "      <td>Gaussian Naive Bayes</td>\n",
       "      <td>0.906536</td>\n",
       "    </tr>\n",
       "  </tbody>\n",
       "</table>\n",
       "</div>"
      ],
      "text/plain": [
       "                   Model     Score\n",
       "0               AdaBoost  0.965033\n",
       "1                XGBoost  0.959477\n",
       "2    Logistic Regression  0.959150\n",
       "3            Extra Trees  0.959150\n",
       "4          Random Forest  0.947712\n",
       "5    K Nearest Neighbour  0.941503\n",
       "6      Gradient Boosting  0.941503\n",
       "7                    SVC  0.941503\n",
       "8       Gaussian Process  0.941503\n",
       "9     Bagging Classifier  0.924183\n",
       "10  Gaussian Naive Bayes  0.906536"
      ]
     },
     "execution_count": 70,
     "metadata": {},
     "output_type": "execute_result"
    }
   ],
   "source": [
    "results = pd.DataFrame({\n",
    "    'Model': ['Random Forest', 'K Nearest Neighbour', 'Logistic Regression', 'XGBoost', 'Gradient Boosting', 'SVC', 'Extra Trees', 'AdaBoost', 'Gaussian Naive Bayes', 'Gaussian Process', 'Bagging Classifier'],\n",
    "    'Score': scores})\n",
    "\n",
    "result_df = results.sort_values(by='Score', ascending=False).reset_index(drop=True)\n",
    "result_df.head(11)\n"
   ]
  },
  {
   "cell_type": "code",
   "execution_count": 71,
   "id": "f1c804a0",
   "metadata": {
    "execution": {
     "iopub.execute_input": "2023-05-14T16:16:42.279358Z",
     "iopub.status.busy": "2023-05-14T16:16:42.278974Z",
     "iopub.status.idle": "2023-05-14T16:16:42.505305Z",
     "shell.execute_reply": "2023-05-14T16:16:42.504254Z",
     "shell.execute_reply.started": "2023-05-14T16:16:42.279327Z"
    }
   },
   "outputs": [
    {
     "data": {
      "text/plain": [
       "(0.93, 0.97)"
      ]
     },
     "execution_count": 71,
     "metadata": {},
     "output_type": "execute_result"
    },
    {
     "data": {
      "image/png": "[encoded data removed]",
      "text/plain": [
       "<Figure size 640x480 with 1 Axes>"
      ]
     },
     "metadata": {},
     "output_type": "display_data"
    }
   ],
   "source": [
    "sns.barplot(x='Score', y = 'Model', data = result_df, color = 'c')\n",
    "plt.title('Machine Learning Algorithm Accuracy Score \\n')\n",
    "plt.xlabel('Accuracy Score (%)')\n",
    "plt.ylabel('Algorithm')\n",
    "plt.xlim(0.93,0.97)"
   ]
  },
  {
   "cell_type": "markdown",
   "id": "767bc914",
   "metadata": {},
   "source": [
    "# Optimizing Classifiers\n"
   ]
  },
  {
   "cell_type": "code",
   "execution_count": 72,
   "id": "d2762dfc",
   "metadata": {},
   "outputs": [],
   "source": [
    "models=[]"
   ]
  },
  {
   "cell_type": "code",
   "execution_count": 73,
   "id": "52f0a48f",
   "metadata": {
    "execution": {
     "iopub.execute_input": "2023-05-14T16:16:50.762296Z",
     "iopub.status.busy": "2023-05-14T16:16:50.761427Z",
     "iopub.status.idle": "2023-05-14T16:16:54.254017Z",
     "shell.execute_reply": "2023-05-14T16:16:54.253048Z",
     "shell.execute_reply.started": "2023-05-14T16:16:50.762268Z"
    }
   },
   "outputs": [
    {
     "name": "stdout",
     "output_type": "stream",
     "text": [
      "Fitting 5 folds for each of 40 candidates, totalling 200 fits\n",
      "0.9699367088607594\n",
      "SVC(C=15, gamma=0.001, probability=True)\n"
     ]
    }
   ],
   "source": [
    "Cs = [0.001, 0.01, 0.1, 1, 5, 10, 15, 20, 50, 100]\n",
    "gammas = [0.001, 0.01, 0.1, 1]\n",
    "\n",
    "# Setting up parameter grid\n",
    "hyperparams = {'C': Cs, 'gamma' : gammas}\n",
    "\n",
    "# Run GridSearch CV\n",
    "gd=GridSearchCV(estimator = SVC(probability=True), param_grid = hyperparams, \n",
    "                verbose=True, cv=5, scoring = \"accuracy\")\n",
    "\n",
    "# Fitting model and return results\n",
    "gd.fit(X_train, y_train)\n",
    "print(gd.best_score_)\n",
    "print(gd.best_estimator_)\n",
    "models.append(gd.best_estimator_)"
   ]
  },
  {
   "cell_type": "code",
   "execution_count": 74,
   "id": "e8f734d9",
   "metadata": {
    "execution": {
     "iopub.execute_input": "2023-05-14T16:16:54.256365Z",
     "iopub.status.busy": "2023-05-14T16:16:54.255961Z",
     "iopub.status.idle": "2023-05-14T16:16:55.127403Z",
     "shell.execute_reply": "2023-05-14T16:16:55.126134Z",
     "shell.execute_reply.started": "2023-05-14T16:16:54.256331Z"
    }
   },
   "outputs": [
    {
     "name": "stdout",
     "output_type": "stream",
     "text": [
      "Fitting 5 folds for each of 20 candidates, totalling 100 fits\n",
      "0.9674050632911392\n",
      "LogisticRegression(C=2.7825594022071245)\n"
     ]
    }
   ],
   "source": [
    "penalty = ['l1', 'l2']\n",
    "C = np.logspace(0, 4, 10)\n",
    "\n",
    "# Setting up parameter grid\n",
    "hyperparams = {'penalty': penalty, 'C': C}\n",
    "\n",
    "# Run GridSearch CV\n",
    "gd=GridSearchCV(estimator = LogisticRegression(), param_grid = hyperparams, \n",
    "                verbose=True, cv=5, scoring = \"accuracy\")\n",
    "\n",
    "# Fitting model and return results\n",
    "gd.fit(X_train, y_train)\n",
    "print(gd.best_score_)\n",
    "print(gd.best_estimator_)\n",
    "models.append(gd.best_estimator_)"
   ]
  },
  {
   "cell_type": "code",
   "execution_count": 75,
   "id": "664d748a",
   "metadata": {
    "execution": {
     "iopub.execute_input": "2023-05-14T16:16:55.130399Z",
     "iopub.status.busy": "2023-05-14T16:16:55.130012Z",
     "iopub.status.idle": "2023-05-14T16:17:05.288917Z",
     "shell.execute_reply": "2023-05-14T16:17:05.288096Z",
     "shell.execute_reply.started": "2023-05-14T16:16:55.130364Z"
    }
   },
   "outputs": [
    {
     "name": "stdout",
     "output_type": "stream",
     "text": [
      "Fitting 5 folds for each of 300 candidates, totalling 1500 fits\n",
      "0.9498734177215189\n",
      "KNeighborsClassifier(leaf_size=1, n_neighbors=8)\n"
     ]
    }
   ],
   "source": [
    "n_neighbors = [1, 2, 3, 4, 5, 6, 7, 8, 9, 10, 12, 14, 16, 18, 20]\n",
    "algorithm = ['auto']\n",
    "weights = ['uniform', 'distance']\n",
    "leaf_size = [1, 2, 3, 4, 5, 10, 15, 20, 25, 30]\n",
    "\n",
    "# Setting up parameter grid\n",
    "hyperparams = {'algorithm': algorithm, 'weights': weights, 'leaf_size': leaf_size, \n",
    "               'n_neighbors': n_neighbors}\n",
    "\n",
    "# Run GridSearch CV\n",
    "gd=GridSearchCV(estimator = KNeighborsClassifier(), param_grid = hyperparams, \n",
    "                verbose=True, cv=5, scoring = \"accuracy\")\n",
    "\n",
    "# Fitting model and return results\n",
    "gd.fit(X_train, y_train)\n",
    "print(gd.best_score_)\n",
    "print(gd.best_estimator_)\n",
    "models.append(gd.best_estimator_)"
   ]
  },
  {
   "cell_type": "code",
   "execution_count": 76,
   "id": "c9eeb8d4",
   "metadata": {
    "execution": {
     "iopub.execute_input": "2023-05-14T16:17:05.294494Z",
     "iopub.status.busy": "2023-05-14T16:17:05.292560Z",
     "iopub.status.idle": "2023-05-14T16:21:43.331540Z",
     "shell.execute_reply": "2023-05-14T16:21:43.330440Z",
     "shell.execute_reply.started": "2023-05-14T16:17:05.294447Z"
    }
   },
   "outputs": [
    {
     "name": "stdout",
     "output_type": "stream",
     "text": [
      "Fitting 5 folds for each of 56 candidates, totalling 280 fits\n",
      "0.954873417721519\n",
      "GradientBoostingClassifier(learning_rate=0.2, n_estimators=1500)\n"
     ]
    }
   ],
   "source": [
    "learning_rate = [0.0001, 0.0005, 0.001, 0.005, 0.01, 0.05, 0.1, 0.2]\n",
    "n_estimators = [100, 250, 500, 750, 1000, 1250, 1500]\n",
    "\n",
    "# Setting up parameter grid\n",
    "hyperparams = {'learning_rate': learning_rate, 'n_estimators': n_estimators}\n",
    "\n",
    "# Run GridSearch CV\n",
    "gd=GridSearchCV(estimator = GradientBoostingClassifier(), param_grid = hyperparams, \n",
    "                verbose=True, cv=5, scoring = \"accuracy\")\n",
    "\n",
    "# Fitting model and return results\n",
    "gd.fit(X_train, y_train)\n",
    "print(gd.best_score_)\n",
    "print(gd.best_estimator_)\n",
    "models.append(gd.best_estimator_)"
   ]
  },
  {
   "cell_type": "code",
   "execution_count": 77,
   "id": "3e7a6e86",
   "metadata": {
    "execution": {
     "iopub.execute_input": "2023-05-14T16:21:43.333200Z",
     "iopub.status.busy": "2023-05-14T16:21:43.332850Z",
     "iopub.status.idle": "2023-05-14T16:24:45.760979Z",
     "shell.execute_reply": "2023-05-14T16:24:45.759955Z",
     "shell.execute_reply.started": "2023-05-14T16:21:43.333147Z"
    }
   },
   "outputs": [
    {
     "name": "stdout",
     "output_type": "stream",
     "text": [
      "Fitting 5 folds for each of 174960 candidates, totalling 874800 fits\n"
     ]
    },
    {
     "ename": "KeyboardInterrupt",
     "evalue": "",
     "output_type": "error",
     "traceback": [
      "\u001b[0;31m---------------------------------------------------------------------------\u001b[0m",
      "\u001b[0;31mKeyboardInterrupt\u001b[0m                         Traceback (most recent call last)",
      "Cell \u001b[0;32mIn[77], line 16\u001b[0m\n\u001b[1;32m     12\u001b[0m gd\u001b[38;5;241m=\u001b[39mGridSearchCV(estimator \u001b[38;5;241m=\u001b[39m XGBClassifier(), param_grid \u001b[38;5;241m=\u001b[39m hyperparams, \n\u001b[1;32m     13\u001b[0m                 verbose\u001b[38;5;241m=\u001b[39m\u001b[38;5;28;01mTrue\u001b[39;00m, cv\u001b[38;5;241m=\u001b[39m\u001b[38;5;241m5\u001b[39m, scoring \u001b[38;5;241m=\u001b[39m \u001b[38;5;124m\"\u001b[39m\u001b[38;5;124maccuracy\u001b[39m\u001b[38;5;124m\"\u001b[39m)\n\u001b[1;32m     15\u001b[0m \u001b[38;5;66;03m# Fitting model and return results\u001b[39;00m\n\u001b[0;32m---> 16\u001b[0m \u001b[43mgd\u001b[49m\u001b[38;5;241;43m.\u001b[39;49m\u001b[43mfit\u001b[49m\u001b[43m(\u001b[49m\u001b[43mX_train\u001b[49m\u001b[43m,\u001b[49m\u001b[43m \u001b[49m\u001b[43my_train\u001b[49m\u001b[43m)\u001b[49m\n\u001b[1;32m     17\u001b[0m \u001b[38;5;28mprint\u001b[39m(gd\u001b[38;5;241m.\u001b[39mbest_score_)\n\u001b[1;32m     18\u001b[0m \u001b[38;5;28mprint\u001b[39m(gd\u001b[38;5;241m.\u001b[39mbest_estimator_)\n",
      "File \u001b[0;32m~/.local/lib/python3.10/site-packages/sklearn/model_selection/_search.py:874\u001b[0m, in \u001b[0;36mBaseSearchCV.fit\u001b[0;34m(self, X, y, groups, **fit_params)\u001b[0m\n\u001b[1;32m    868\u001b[0m     results \u001b[38;5;241m=\u001b[39m \u001b[38;5;28mself\u001b[39m\u001b[38;5;241m.\u001b[39m_format_results(\n\u001b[1;32m    869\u001b[0m         all_candidate_params, n_splits, all_out, all_more_results\n\u001b[1;32m    870\u001b[0m     )\n\u001b[1;32m    872\u001b[0m     \u001b[38;5;28;01mreturn\u001b[39;00m results\n\u001b[0;32m--> 874\u001b[0m \u001b[38;5;28;43mself\u001b[39;49m\u001b[38;5;241;43m.\u001b[39;49m\u001b[43m_run_search\u001b[49m\u001b[43m(\u001b[49m\u001b[43mevaluate_candidates\u001b[49m\u001b[43m)\u001b[49m\n\u001b[1;32m    876\u001b[0m \u001b[38;5;66;03m# multimetric is determined here because in the case of a callable\u001b[39;00m\n\u001b[1;32m    877\u001b[0m \u001b[38;5;66;03m# self.scoring the return type is only known after calling\u001b[39;00m\n\u001b[1;32m    878\u001b[0m first_test_score \u001b[38;5;241m=\u001b[39m all_out[\u001b[38;5;241m0\u001b[39m][\u001b[38;5;124m\"\u001b[39m\u001b[38;5;124mtest_scores\u001b[39m\u001b[38;5;124m\"\u001b[39m]\n",
      "File \u001b[0;32m~/.local/lib/python3.10/site-packages/sklearn/model_selection/_search.py:1388\u001b[0m, in \u001b[0;36mGridSearchCV._run_search\u001b[0;34m(self, evaluate_candidates)\u001b[0m\n\u001b[1;32m   1386\u001b[0m \u001b[38;5;28;01mdef\u001b[39;00m \u001b[38;5;21m_run_search\u001b[39m(\u001b[38;5;28mself\u001b[39m, evaluate_candidates):\n\u001b[1;32m   1387\u001b[0m \u001b[38;5;250m    \u001b[39m\u001b[38;5;124;03m\"\"\"Search all candidates in param_grid\"\"\"\u001b[39;00m\n\u001b[0;32m-> 1388\u001b[0m     \u001b[43mevaluate_candidates\u001b[49m\u001b[43m(\u001b[49m\u001b[43mParameterGrid\u001b[49m\u001b[43m(\u001b[49m\u001b[38;5;28;43mself\u001b[39;49m\u001b[38;5;241;43m.\u001b[39;49m\u001b[43mparam_grid\u001b[49m\u001b[43m)\u001b[49m\u001b[43m)\u001b[49m\n",
      "File \u001b[0;32m~/.local/lib/python3.10/site-packages/sklearn/model_selection/_search.py:821\u001b[0m, in \u001b[0;36mBaseSearchCV.fit.<locals>.evaluate_candidates\u001b[0;34m(candidate_params, cv, more_results)\u001b[0m\n\u001b[1;32m    813\u001b[0m \u001b[38;5;28;01mif\u001b[39;00m \u001b[38;5;28mself\u001b[39m\u001b[38;5;241m.\u001b[39mverbose \u001b[38;5;241m>\u001b[39m \u001b[38;5;241m0\u001b[39m:\n\u001b[1;32m    814\u001b[0m     \u001b[38;5;28mprint\u001b[39m(\n\u001b[1;32m    815\u001b[0m         \u001b[38;5;124m\"\u001b[39m\u001b[38;5;124mFitting \u001b[39m\u001b[38;5;132;01m{0}\u001b[39;00m\u001b[38;5;124m folds for each of \u001b[39m\u001b[38;5;132;01m{1}\u001b[39;00m\u001b[38;5;124m candidates,\u001b[39m\u001b[38;5;124m\"\u001b[39m\n\u001b[1;32m    816\u001b[0m         \u001b[38;5;124m\"\u001b[39m\u001b[38;5;124m totalling \u001b[39m\u001b[38;5;132;01m{2}\u001b[39;00m\u001b[38;5;124m fits\u001b[39m\u001b[38;5;124m\"\u001b[39m\u001b[38;5;241m.\u001b[39mformat(\n\u001b[1;32m    817\u001b[0m             n_splits, n_candidates, n_candidates \u001b[38;5;241m*\u001b[39m n_splits\n\u001b[1;32m    818\u001b[0m         )\n\u001b[1;32m    819\u001b[0m     )\n\u001b[0;32m--> 821\u001b[0m out \u001b[38;5;241m=\u001b[39m \u001b[43mparallel\u001b[49m\u001b[43m(\u001b[49m\n\u001b[1;32m    822\u001b[0m \u001b[43m    \u001b[49m\u001b[43mdelayed\u001b[49m\u001b[43m(\u001b[49m\u001b[43m_fit_and_score\u001b[49m\u001b[43m)\u001b[49m\u001b[43m(\u001b[49m\n\u001b[1;32m    823\u001b[0m \u001b[43m        \u001b[49m\u001b[43mclone\u001b[49m\u001b[43m(\u001b[49m\u001b[43mbase_estimator\u001b[49m\u001b[43m)\u001b[49m\u001b[43m,\u001b[49m\n\u001b[1;32m    824\u001b[0m \u001b[43m        \u001b[49m\u001b[43mX\u001b[49m\u001b[43m,\u001b[49m\n\u001b[1;32m    825\u001b[0m \u001b[43m        \u001b[49m\u001b[43my\u001b[49m\u001b[43m,\u001b[49m\n\u001b[1;32m    826\u001b[0m \u001b[43m        \u001b[49m\u001b[43mtrain\u001b[49m\u001b[38;5;241;43m=\u001b[39;49m\u001b[43mtrain\u001b[49m\u001b[43m,\u001b[49m\n\u001b[1;32m    827\u001b[0m \u001b[43m        \u001b[49m\u001b[43mtest\u001b[49m\u001b[38;5;241;43m=\u001b[39;49m\u001b[43mtest\u001b[49m\u001b[43m,\u001b[49m\n\u001b[1;32m    828\u001b[0m \u001b[43m        \u001b[49m\u001b[43mparameters\u001b[49m\u001b[38;5;241;43m=\u001b[39;49m\u001b[43mparameters\u001b[49m\u001b[43m,\u001b[49m\n\u001b[1;32m    829\u001b[0m \u001b[43m        \u001b[49m\u001b[43msplit_progress\u001b[49m\u001b[38;5;241;43m=\u001b[39;49m\u001b[43m(\u001b[49m\u001b[43msplit_idx\u001b[49m\u001b[43m,\u001b[49m\u001b[43m \u001b[49m\u001b[43mn_splits\u001b[49m\u001b[43m)\u001b[49m\u001b[43m,\u001b[49m\n\u001b[1;32m    830\u001b[0m \u001b[43m        \u001b[49m\u001b[43mcandidate_progress\u001b[49m\u001b[38;5;241;43m=\u001b[39;49m\u001b[43m(\u001b[49m\u001b[43mcand_idx\u001b[49m\u001b[43m,\u001b[49m\u001b[43m \u001b[49m\u001b[43mn_candidates\u001b[49m\u001b[43m)\u001b[49m\u001b[43m,\u001b[49m\n\u001b[1;32m    831\u001b[0m \u001b[43m        \u001b[49m\u001b[38;5;241;43m*\u001b[39;49m\u001b[38;5;241;43m*\u001b[39;49m\u001b[43mfit_and_score_kwargs\u001b[49m\u001b[43m,\u001b[49m\n\u001b[1;32m    832\u001b[0m \u001b[43m    \u001b[49m\u001b[43m)\u001b[49m\n\u001b[1;32m    833\u001b[0m \u001b[43m    \u001b[49m\u001b[38;5;28;43;01mfor\u001b[39;49;00m\u001b[43m \u001b[49m\u001b[43m(\u001b[49m\u001b[43mcand_idx\u001b[49m\u001b[43m,\u001b[49m\u001b[43m \u001b[49m\u001b[43mparameters\u001b[49m\u001b[43m)\u001b[49m\u001b[43m,\u001b[49m\u001b[43m \u001b[49m\u001b[43m(\u001b[49m\u001b[43msplit_idx\u001b[49m\u001b[43m,\u001b[49m\u001b[43m \u001b[49m\u001b[43m(\u001b[49m\u001b[43mtrain\u001b[49m\u001b[43m,\u001b[49m\u001b[43m \u001b[49m\u001b[43mtest\u001b[49m\u001b[43m)\u001b[49m\u001b[43m)\u001b[49m\u001b[43m \u001b[49m\u001b[38;5;129;43;01min\u001b[39;49;00m\u001b[43m \u001b[49m\u001b[43mproduct\u001b[49m\u001b[43m(\u001b[49m\n\u001b[1;32m    834\u001b[0m \u001b[43m        \u001b[49m\u001b[38;5;28;43menumerate\u001b[39;49m\u001b[43m(\u001b[49m\u001b[43mcandidate_params\u001b[49m\u001b[43m)\u001b[49m\u001b[43m,\u001b[49m\u001b[43m \u001b[49m\u001b[38;5;28;43menumerate\u001b[39;49m\u001b[43m(\u001b[49m\u001b[43mcv\u001b[49m\u001b[38;5;241;43m.\u001b[39;49m\u001b[43msplit\u001b[49m\u001b[43m(\u001b[49m\u001b[43mX\u001b[49m\u001b[43m,\u001b[49m\u001b[43m \u001b[49m\u001b[43my\u001b[49m\u001b[43m,\u001b[49m\u001b[43m \u001b[49m\u001b[43mgroups\u001b[49m\u001b[43m)\u001b[49m\u001b[43m)\u001b[49m\n\u001b[1;32m    835\u001b[0m \u001b[43m    \u001b[49m\u001b[43m)\u001b[49m\n\u001b[1;32m    836\u001b[0m \u001b[43m\u001b[49m\u001b[43m)\u001b[49m\n\u001b[1;32m    838\u001b[0m \u001b[38;5;28;01mif\u001b[39;00m \u001b[38;5;28mlen\u001b[39m(out) \u001b[38;5;241m<\u001b[39m \u001b[38;5;241m1\u001b[39m:\n\u001b[1;32m    839\u001b[0m     \u001b[38;5;28;01mraise\u001b[39;00m \u001b[38;5;167;01mValueError\u001b[39;00m(\n\u001b[1;32m    840\u001b[0m         \u001b[38;5;124m\"\u001b[39m\u001b[38;5;124mNo fits were performed. \u001b[39m\u001b[38;5;124m\"\u001b[39m\n\u001b[1;32m    841\u001b[0m         \u001b[38;5;124m\"\u001b[39m\u001b[38;5;124mWas the CV iterator empty? \u001b[39m\u001b[38;5;124m\"\u001b[39m\n\u001b[1;32m    842\u001b[0m         \u001b[38;5;124m\"\u001b[39m\u001b[38;5;124mWere there no candidates?\u001b[39m\u001b[38;5;124m\"\u001b[39m\n\u001b[1;32m    843\u001b[0m     )\n",
      "File \u001b[0;32m~/.local/lib/python3.10/site-packages/sklearn/utils/parallel.py:63\u001b[0m, in \u001b[0;36mParallel.__call__\u001b[0;34m(self, iterable)\u001b[0m\n\u001b[1;32m     58\u001b[0m config \u001b[38;5;241m=\u001b[39m get_config()\n\u001b[1;32m     59\u001b[0m iterable_with_config \u001b[38;5;241m=\u001b[39m (\n\u001b[1;32m     60\u001b[0m     (_with_config(delayed_func, config), args, kwargs)\n\u001b[1;32m     61\u001b[0m     \u001b[38;5;28;01mfor\u001b[39;00m delayed_func, args, kwargs \u001b[38;5;129;01min\u001b[39;00m iterable\n\u001b[1;32m     62\u001b[0m )\n\u001b[0;32m---> 63\u001b[0m \u001b[38;5;28;01mreturn\u001b[39;00m \u001b[38;5;28;43msuper\u001b[39;49m\u001b[43m(\u001b[49m\u001b[43m)\u001b[49m\u001b[38;5;241;43m.\u001b[39;49m\u001b[38;5;21;43m__call__\u001b[39;49m\u001b[43m(\u001b[49m\u001b[43miterable_with_config\u001b[49m\u001b[43m)\u001b[49m\n",
      "File \u001b[0;32m~/.local/lib/python3.10/site-packages/joblib/parallel.py:1088\u001b[0m, in \u001b[0;36mParallel.__call__\u001b[0;34m(self, iterable)\u001b[0m\n\u001b[1;32m   1085\u001b[0m \u001b[38;5;28;01mif\u001b[39;00m \u001b[38;5;28mself\u001b[39m\u001b[38;5;241m.\u001b[39mdispatch_one_batch(iterator):\n\u001b[1;32m   1086\u001b[0m     \u001b[38;5;28mself\u001b[39m\u001b[38;5;241m.\u001b[39m_iterating \u001b[38;5;241m=\u001b[39m \u001b[38;5;28mself\u001b[39m\u001b[38;5;241m.\u001b[39m_original_iterator \u001b[38;5;129;01mis\u001b[39;00m \u001b[38;5;129;01mnot\u001b[39;00m \u001b[38;5;28;01mNone\u001b[39;00m\n\u001b[0;32m-> 1088\u001b[0m \u001b[38;5;28;01mwhile\u001b[39;00m \u001b[38;5;28;43mself\u001b[39;49m\u001b[38;5;241;43m.\u001b[39;49m\u001b[43mdispatch_one_batch\u001b[49m\u001b[43m(\u001b[49m\u001b[43miterator\u001b[49m\u001b[43m)\u001b[49m:\n\u001b[1;32m   1089\u001b[0m     \u001b[38;5;28;01mpass\u001b[39;00m\n\u001b[1;32m   1091\u001b[0m \u001b[38;5;28;01mif\u001b[39;00m pre_dispatch \u001b[38;5;241m==\u001b[39m \u001b[38;5;124m\"\u001b[39m\u001b[38;5;124mall\u001b[39m\u001b[38;5;124m\"\u001b[39m \u001b[38;5;129;01mor\u001b[39;00m n_jobs \u001b[38;5;241m==\u001b[39m \u001b[38;5;241m1\u001b[39m:\n\u001b[1;32m   1092\u001b[0m     \u001b[38;5;66;03m# The iterable was consumed all at once by the above for loop.\u001b[39;00m\n\u001b[1;32m   1093\u001b[0m     \u001b[38;5;66;03m# No need to wait for async callbacks to trigger to\u001b[39;00m\n\u001b[1;32m   1094\u001b[0m     \u001b[38;5;66;03m# consumption.\u001b[39;00m\n",
      "File \u001b[0;32m~/.local/lib/python3.10/site-packages/joblib/parallel.py:901\u001b[0m, in \u001b[0;36mParallel.dispatch_one_batch\u001b[0;34m(self, iterator)\u001b[0m\n\u001b[1;32m    899\u001b[0m     \u001b[38;5;28;01mreturn\u001b[39;00m \u001b[38;5;28;01mFalse\u001b[39;00m\n\u001b[1;32m    900\u001b[0m \u001b[38;5;28;01melse\u001b[39;00m:\n\u001b[0;32m--> 901\u001b[0m     \u001b[38;5;28;43mself\u001b[39;49m\u001b[38;5;241;43m.\u001b[39;49m\u001b[43m_dispatch\u001b[49m\u001b[43m(\u001b[49m\u001b[43mtasks\u001b[49m\u001b[43m)\u001b[49m\n\u001b[1;32m    902\u001b[0m     \u001b[38;5;28;01mreturn\u001b[39;00m \u001b[38;5;28;01mTrue\u001b[39;00m\n",
      "File \u001b[0;32m~/.local/lib/python3.10/site-packages/joblib/parallel.py:819\u001b[0m, in \u001b[0;36mParallel._dispatch\u001b[0;34m(self, batch)\u001b[0m\n\u001b[1;32m    817\u001b[0m \u001b[38;5;28;01mwith\u001b[39;00m \u001b[38;5;28mself\u001b[39m\u001b[38;5;241m.\u001b[39m_lock:\n\u001b[1;32m    818\u001b[0m     job_idx \u001b[38;5;241m=\u001b[39m \u001b[38;5;28mlen\u001b[39m(\u001b[38;5;28mself\u001b[39m\u001b[38;5;241m.\u001b[39m_jobs)\n\u001b[0;32m--> 819\u001b[0m     job \u001b[38;5;241m=\u001b[39m \u001b[38;5;28;43mself\u001b[39;49m\u001b[38;5;241;43m.\u001b[39;49m\u001b[43m_backend\u001b[49m\u001b[38;5;241;43m.\u001b[39;49m\u001b[43mapply_async\u001b[49m\u001b[43m(\u001b[49m\u001b[43mbatch\u001b[49m\u001b[43m,\u001b[49m\u001b[43m \u001b[49m\u001b[43mcallback\u001b[49m\u001b[38;5;241;43m=\u001b[39;49m\u001b[43mcb\u001b[49m\u001b[43m)\u001b[49m\n\u001b[1;32m    820\u001b[0m     \u001b[38;5;66;03m# A job can complete so quickly than its callback is\u001b[39;00m\n\u001b[1;32m    821\u001b[0m     \u001b[38;5;66;03m# called before we get here, causing self._jobs to\u001b[39;00m\n\u001b[1;32m    822\u001b[0m     \u001b[38;5;66;03m# grow. To ensure correct results ordering, .insert is\u001b[39;00m\n\u001b[1;32m    823\u001b[0m     \u001b[38;5;66;03m# used (rather than .append) in the following line\u001b[39;00m\n\u001b[1;32m    824\u001b[0m     \u001b[38;5;28mself\u001b[39m\u001b[38;5;241m.\u001b[39m_jobs\u001b[38;5;241m.\u001b[39minsert(job_idx, job)\n",
      "File \u001b[0;32m~/.local/lib/python3.10/site-packages/joblib/_parallel_backends.py:208\u001b[0m, in \u001b[0;36mSequentialBackend.apply_async\u001b[0;34m(self, func, callback)\u001b[0m\n\u001b[1;32m    206\u001b[0m \u001b[38;5;28;01mdef\u001b[39;00m \u001b[38;5;21mapply_async\u001b[39m(\u001b[38;5;28mself\u001b[39m, func, callback\u001b[38;5;241m=\u001b[39m\u001b[38;5;28;01mNone\u001b[39;00m):\n\u001b[1;32m    207\u001b[0m \u001b[38;5;250m    \u001b[39m\u001b[38;5;124;03m\"\"\"Schedule a func to be run\"\"\"\u001b[39;00m\n\u001b[0;32m--> 208\u001b[0m     result \u001b[38;5;241m=\u001b[39m \u001b[43mImmediateResult\u001b[49m\u001b[43m(\u001b[49m\u001b[43mfunc\u001b[49m\u001b[43m)\u001b[49m\n\u001b[1;32m    209\u001b[0m     \u001b[38;5;28;01mif\u001b[39;00m callback:\n\u001b[1;32m    210\u001b[0m         callback(result)\n",
      "File \u001b[0;32m~/.local/lib/python3.10/site-packages/joblib/_parallel_backends.py:597\u001b[0m, in \u001b[0;36mImmediateResult.__init__\u001b[0;34m(self, batch)\u001b[0m\n\u001b[1;32m    594\u001b[0m \u001b[38;5;28;01mdef\u001b[39;00m \u001b[38;5;21m__init__\u001b[39m(\u001b[38;5;28mself\u001b[39m, batch):\n\u001b[1;32m    595\u001b[0m     \u001b[38;5;66;03m# Don't delay the application, to avoid keeping the input\u001b[39;00m\n\u001b[1;32m    596\u001b[0m     \u001b[38;5;66;03m# arguments in memory\u001b[39;00m\n\u001b[0;32m--> 597\u001b[0m     \u001b[38;5;28mself\u001b[39m\u001b[38;5;241m.\u001b[39mresults \u001b[38;5;241m=\u001b[39m \u001b[43mbatch\u001b[49m\u001b[43m(\u001b[49m\u001b[43m)\u001b[49m\n",
      "File \u001b[0;32m~/.local/lib/python3.10/site-packages/joblib/parallel.py:288\u001b[0m, in \u001b[0;36mBatchedCalls.__call__\u001b[0;34m(self)\u001b[0m\n\u001b[1;32m    284\u001b[0m \u001b[38;5;28;01mdef\u001b[39;00m \u001b[38;5;21m__call__\u001b[39m(\u001b[38;5;28mself\u001b[39m):\n\u001b[1;32m    285\u001b[0m     \u001b[38;5;66;03m# Set the default nested backend to self._backend but do not set the\u001b[39;00m\n\u001b[1;32m    286\u001b[0m     \u001b[38;5;66;03m# change the default number of processes to -1\u001b[39;00m\n\u001b[1;32m    287\u001b[0m     \u001b[38;5;28;01mwith\u001b[39;00m parallel_backend(\u001b[38;5;28mself\u001b[39m\u001b[38;5;241m.\u001b[39m_backend, n_jobs\u001b[38;5;241m=\u001b[39m\u001b[38;5;28mself\u001b[39m\u001b[38;5;241m.\u001b[39m_n_jobs):\n\u001b[0;32m--> 288\u001b[0m         \u001b[38;5;28;01mreturn\u001b[39;00m [func(\u001b[38;5;241m*\u001b[39margs, \u001b[38;5;241m*\u001b[39m\u001b[38;5;241m*\u001b[39mkwargs)\n\u001b[1;32m    289\u001b[0m                 \u001b[38;5;28;01mfor\u001b[39;00m func, args, kwargs \u001b[38;5;129;01min\u001b[39;00m \u001b[38;5;28mself\u001b[39m\u001b[38;5;241m.\u001b[39mitems]\n",
      "File \u001b[0;32m~/.local/lib/python3.10/site-packages/joblib/parallel.py:288\u001b[0m, in \u001b[0;36m<listcomp>\u001b[0;34m(.0)\u001b[0m\n\u001b[1;32m    284\u001b[0m \u001b[38;5;28;01mdef\u001b[39;00m \u001b[38;5;21m__call__\u001b[39m(\u001b[38;5;28mself\u001b[39m):\n\u001b[1;32m    285\u001b[0m     \u001b[38;5;66;03m# Set the default nested backend to self._backend but do not set the\u001b[39;00m\n\u001b[1;32m    286\u001b[0m     \u001b[38;5;66;03m# change the default number of processes to -1\u001b[39;00m\n\u001b[1;32m    287\u001b[0m     \u001b[38;5;28;01mwith\u001b[39;00m parallel_backend(\u001b[38;5;28mself\u001b[39m\u001b[38;5;241m.\u001b[39m_backend, n_jobs\u001b[38;5;241m=\u001b[39m\u001b[38;5;28mself\u001b[39m\u001b[38;5;241m.\u001b[39m_n_jobs):\n\u001b[0;32m--> 288\u001b[0m         \u001b[38;5;28;01mreturn\u001b[39;00m [\u001b[43mfunc\u001b[49m\u001b[43m(\u001b[49m\u001b[38;5;241;43m*\u001b[39;49m\u001b[43margs\u001b[49m\u001b[43m,\u001b[49m\u001b[43m \u001b[49m\u001b[38;5;241;43m*\u001b[39;49m\u001b[38;5;241;43m*\u001b[39;49m\u001b[43mkwargs\u001b[49m\u001b[43m)\u001b[49m\n\u001b[1;32m    289\u001b[0m                 \u001b[38;5;28;01mfor\u001b[39;00m func, args, kwargs \u001b[38;5;129;01min\u001b[39;00m \u001b[38;5;28mself\u001b[39m\u001b[38;5;241m.\u001b[39mitems]\n",
      "File \u001b[0;32m~/.local/lib/python3.10/site-packages/sklearn/utils/parallel.py:123\u001b[0m, in \u001b[0;36m_FuncWrapper.__call__\u001b[0;34m(self, *args, **kwargs)\u001b[0m\n\u001b[1;32m    121\u001b[0m     config \u001b[38;5;241m=\u001b[39m {}\n\u001b[1;32m    122\u001b[0m \u001b[38;5;28;01mwith\u001b[39;00m config_context(\u001b[38;5;241m*\u001b[39m\u001b[38;5;241m*\u001b[39mconfig):\n\u001b[0;32m--> 123\u001b[0m     \u001b[38;5;28;01mreturn\u001b[39;00m \u001b[38;5;28;43mself\u001b[39;49m\u001b[38;5;241;43m.\u001b[39;49m\u001b[43mfunction\u001b[49m\u001b[43m(\u001b[49m\u001b[38;5;241;43m*\u001b[39;49m\u001b[43margs\u001b[49m\u001b[43m,\u001b[49m\u001b[43m \u001b[49m\u001b[38;5;241;43m*\u001b[39;49m\u001b[38;5;241;43m*\u001b[39;49m\u001b[43mkwargs\u001b[49m\u001b[43m)\u001b[49m\n",
      "File \u001b[0;32m~/.local/lib/python3.10/site-packages/sklearn/model_selection/_validation.py:686\u001b[0m, in \u001b[0;36m_fit_and_score\u001b[0;34m(estimator, X, y, scorer, train, test, verbose, parameters, fit_params, return_train_score, return_parameters, return_n_test_samples, return_times, return_estimator, split_progress, candidate_progress, error_score)\u001b[0m\n\u001b[1;32m    684\u001b[0m         estimator\u001b[38;5;241m.\u001b[39mfit(X_train, \u001b[38;5;241m*\u001b[39m\u001b[38;5;241m*\u001b[39mfit_params)\n\u001b[1;32m    685\u001b[0m     \u001b[38;5;28;01melse\u001b[39;00m:\n\u001b[0;32m--> 686\u001b[0m         \u001b[43mestimator\u001b[49m\u001b[38;5;241;43m.\u001b[39;49m\u001b[43mfit\u001b[49m\u001b[43m(\u001b[49m\u001b[43mX_train\u001b[49m\u001b[43m,\u001b[49m\u001b[43m \u001b[49m\u001b[43my_train\u001b[49m\u001b[43m,\u001b[49m\u001b[43m \u001b[49m\u001b[38;5;241;43m*\u001b[39;49m\u001b[38;5;241;43m*\u001b[39;49m\u001b[43mfit_params\u001b[49m\u001b[43m)\u001b[49m\n\u001b[1;32m    688\u001b[0m \u001b[38;5;28;01mexcept\u001b[39;00m \u001b[38;5;167;01mException\u001b[39;00m:\n\u001b[1;32m    689\u001b[0m     \u001b[38;5;66;03m# Note fit time as time until error\u001b[39;00m\n\u001b[1;32m    690\u001b[0m     fit_time \u001b[38;5;241m=\u001b[39m time\u001b[38;5;241m.\u001b[39mtime() \u001b[38;5;241m-\u001b[39m start_time\n",
      "File \u001b[0;32m~/.local/lib/python3.10/site-packages/xgboost/core.py:620\u001b[0m, in \u001b[0;36mrequire_keyword_args.<locals>.throw_if.<locals>.inner_f\u001b[0;34m(*args, **kwargs)\u001b[0m\n\u001b[1;32m    618\u001b[0m \u001b[38;5;28;01mfor\u001b[39;00m k, arg \u001b[38;5;129;01min\u001b[39;00m \u001b[38;5;28mzip\u001b[39m(sig\u001b[38;5;241m.\u001b[39mparameters, args):\n\u001b[1;32m    619\u001b[0m     kwargs[k] \u001b[38;5;241m=\u001b[39m arg\n\u001b[0;32m--> 620\u001b[0m \u001b[38;5;28;01mreturn\u001b[39;00m \u001b[43mfunc\u001b[49m\u001b[43m(\u001b[49m\u001b[38;5;241;43m*\u001b[39;49m\u001b[38;5;241;43m*\u001b[39;49m\u001b[43mkwargs\u001b[49m\u001b[43m)\u001b[49m\n",
      "File \u001b[0;32m~/.local/lib/python3.10/site-packages/xgboost/sklearn.py:1490\u001b[0m, in \u001b[0;36mXGBClassifier.fit\u001b[0;34m(self, X, y, sample_weight, base_margin, eval_set, eval_metric, early_stopping_rounds, verbose, xgb_model, sample_weight_eval_set, base_margin_eval_set, feature_weights, callbacks)\u001b[0m\n\u001b[1;32m   1462\u001b[0m (\n\u001b[1;32m   1463\u001b[0m     model,\n\u001b[1;32m   1464\u001b[0m     metric,\n\u001b[0;32m   (...)\u001b[0m\n\u001b[1;32m   1469\u001b[0m     xgb_model, eval_metric, params, early_stopping_rounds, callbacks\n\u001b[1;32m   1470\u001b[0m )\n\u001b[1;32m   1471\u001b[0m train_dmatrix, evals \u001b[38;5;241m=\u001b[39m _wrap_evaluation_matrices(\n\u001b[1;32m   1472\u001b[0m     missing\u001b[38;5;241m=\u001b[39m\u001b[38;5;28mself\u001b[39m\u001b[38;5;241m.\u001b[39mmissing,\n\u001b[1;32m   1473\u001b[0m     X\u001b[38;5;241m=\u001b[39mX,\n\u001b[0;32m   (...)\u001b[0m\n\u001b[1;32m   1487\u001b[0m     feature_types\u001b[38;5;241m=\u001b[39m\u001b[38;5;28mself\u001b[39m\u001b[38;5;241m.\u001b[39mfeature_types,\n\u001b[1;32m   1488\u001b[0m )\n\u001b[0;32m-> 1490\u001b[0m \u001b[38;5;28mself\u001b[39m\u001b[38;5;241m.\u001b[39m_Booster \u001b[38;5;241m=\u001b[39m \u001b[43mtrain\u001b[49m\u001b[43m(\u001b[49m\n\u001b[1;32m   1491\u001b[0m \u001b[43m    \u001b[49m\u001b[43mparams\u001b[49m\u001b[43m,\u001b[49m\n\u001b[1;32m   1492\u001b[0m \u001b[43m    \u001b[49m\u001b[43mtrain_dmatrix\u001b[49m\u001b[43m,\u001b[49m\n\u001b[1;32m   1493\u001b[0m \u001b[43m    \u001b[49m\u001b[38;5;28;43mself\u001b[39;49m\u001b[38;5;241;43m.\u001b[39;49m\u001b[43mget_num_boosting_rounds\u001b[49m\u001b[43m(\u001b[49m\u001b[43m)\u001b[49m\u001b[43m,\u001b[49m\n\u001b[1;32m   1494\u001b[0m \u001b[43m    \u001b[49m\u001b[43mevals\u001b[49m\u001b[38;5;241;43m=\u001b[39;49m\u001b[43mevals\u001b[49m\u001b[43m,\u001b[49m\n\u001b[1;32m   1495\u001b[0m \u001b[43m    \u001b[49m\u001b[43mearly_stopping_rounds\u001b[49m\u001b[38;5;241;43m=\u001b[39;49m\u001b[43mearly_stopping_rounds\u001b[49m\u001b[43m,\u001b[49m\n\u001b[1;32m   1496\u001b[0m \u001b[43m    \u001b[49m\u001b[43mevals_result\u001b[49m\u001b[38;5;241;43m=\u001b[39;49m\u001b[43mevals_result\u001b[49m\u001b[43m,\u001b[49m\n\u001b[1;32m   1497\u001b[0m \u001b[43m    \u001b[49m\u001b[43mobj\u001b[49m\u001b[38;5;241;43m=\u001b[39;49m\u001b[43mobj\u001b[49m\u001b[43m,\u001b[49m\n\u001b[1;32m   1498\u001b[0m \u001b[43m    \u001b[49m\u001b[43mcustom_metric\u001b[49m\u001b[38;5;241;43m=\u001b[39;49m\u001b[43mmetric\u001b[49m\u001b[43m,\u001b[49m\n\u001b[1;32m   1499\u001b[0m \u001b[43m    \u001b[49m\u001b[43mverbose_eval\u001b[49m\u001b[38;5;241;43m=\u001b[39;49m\u001b[43mverbose\u001b[49m\u001b[43m,\u001b[49m\n\u001b[1;32m   1500\u001b[0m \u001b[43m    \u001b[49m\u001b[43mxgb_model\u001b[49m\u001b[38;5;241;43m=\u001b[39;49m\u001b[43mmodel\u001b[49m\u001b[43m,\u001b[49m\n\u001b[1;32m   1501\u001b[0m \u001b[43m    \u001b[49m\u001b[43mcallbacks\u001b[49m\u001b[38;5;241;43m=\u001b[39;49m\u001b[43mcallbacks\u001b[49m\u001b[43m,\u001b[49m\n\u001b[1;32m   1502\u001b[0m \u001b[43m\u001b[49m\u001b[43m)\u001b[49m\n\u001b[1;32m   1504\u001b[0m \u001b[38;5;28;01mif\u001b[39;00m \u001b[38;5;129;01mnot\u001b[39;00m \u001b[38;5;28mcallable\u001b[39m(\u001b[38;5;28mself\u001b[39m\u001b[38;5;241m.\u001b[39mobjective):\n\u001b[1;32m   1505\u001b[0m     \u001b[38;5;28mself\u001b[39m\u001b[38;5;241m.\u001b[39mobjective \u001b[38;5;241m=\u001b[39m params[\u001b[38;5;124m\"\u001b[39m\u001b[38;5;124mobjective\u001b[39m\u001b[38;5;124m\"\u001b[39m]\n",
      "File \u001b[0;32m~/.local/lib/python3.10/site-packages/xgboost/core.py:620\u001b[0m, in \u001b[0;36mrequire_keyword_args.<locals>.throw_if.<locals>.inner_f\u001b[0;34m(*args, **kwargs)\u001b[0m\n\u001b[1;32m    618\u001b[0m \u001b[38;5;28;01mfor\u001b[39;00m k, arg \u001b[38;5;129;01min\u001b[39;00m \u001b[38;5;28mzip\u001b[39m(sig\u001b[38;5;241m.\u001b[39mparameters, args):\n\u001b[1;32m    619\u001b[0m     kwargs[k] \u001b[38;5;241m=\u001b[39m arg\n\u001b[0;32m--> 620\u001b[0m \u001b[38;5;28;01mreturn\u001b[39;00m \u001b[43mfunc\u001b[49m\u001b[43m(\u001b[49m\u001b[38;5;241;43m*\u001b[39;49m\u001b[38;5;241;43m*\u001b[39;49m\u001b[43mkwargs\u001b[49m\u001b[43m)\u001b[49m\n",
      "File \u001b[0;32m~/.local/lib/python3.10/site-packages/xgboost/training.py:185\u001b[0m, in \u001b[0;36mtrain\u001b[0;34m(params, dtrain, num_boost_round, evals, obj, feval, maximize, early_stopping_rounds, evals_result, verbose_eval, xgb_model, callbacks, custom_metric)\u001b[0m\n\u001b[1;32m    183\u001b[0m \u001b[38;5;28;01mif\u001b[39;00m cb_container\u001b[38;5;241m.\u001b[39mbefore_iteration(bst, i, dtrain, evals):\n\u001b[1;32m    184\u001b[0m     \u001b[38;5;28;01mbreak\u001b[39;00m\n\u001b[0;32m--> 185\u001b[0m \u001b[43mbst\u001b[49m\u001b[38;5;241;43m.\u001b[39;49m\u001b[43mupdate\u001b[49m\u001b[43m(\u001b[49m\u001b[43mdtrain\u001b[49m\u001b[43m,\u001b[49m\u001b[43m \u001b[49m\u001b[43mi\u001b[49m\u001b[43m,\u001b[49m\u001b[43m \u001b[49m\u001b[43mobj\u001b[49m\u001b[43m)\u001b[49m\n\u001b[1;32m    186\u001b[0m \u001b[38;5;28;01mif\u001b[39;00m cb_container\u001b[38;5;241m.\u001b[39mafter_iteration(bst, i, dtrain, evals):\n\u001b[1;32m    187\u001b[0m     \u001b[38;5;28;01mbreak\u001b[39;00m\n",
      "File \u001b[0;32m~/.local/lib/python3.10/site-packages/xgboost/core.py:1918\u001b[0m, in \u001b[0;36mBooster.update\u001b[0;34m(self, dtrain, iteration, fobj)\u001b[0m\n\u001b[1;32m   1915\u001b[0m \u001b[38;5;28mself\u001b[39m\u001b[38;5;241m.\u001b[39m_validate_dmatrix_features(dtrain)\n\u001b[1;32m   1917\u001b[0m \u001b[38;5;28;01mif\u001b[39;00m fobj \u001b[38;5;129;01mis\u001b[39;00m \u001b[38;5;28;01mNone\u001b[39;00m:\n\u001b[0;32m-> 1918\u001b[0m     _check_call(\u001b[43m_LIB\u001b[49m\u001b[38;5;241;43m.\u001b[39;49m\u001b[43mXGBoosterUpdateOneIter\u001b[49m\u001b[43m(\u001b[49m\u001b[38;5;28;43mself\u001b[39;49m\u001b[38;5;241;43m.\u001b[39;49m\u001b[43mhandle\u001b[49m\u001b[43m,\u001b[49m\n\u001b[1;32m   1919\u001b[0m \u001b[43m                                            \u001b[49m\u001b[43mctypes\u001b[49m\u001b[38;5;241;43m.\u001b[39;49m\u001b[43mc_int\u001b[49m\u001b[43m(\u001b[49m\u001b[43miteration\u001b[49m\u001b[43m)\u001b[49m\u001b[43m,\u001b[49m\n\u001b[1;32m   1920\u001b[0m \u001b[43m                                            \u001b[49m\u001b[43mdtrain\u001b[49m\u001b[38;5;241;43m.\u001b[39;49m\u001b[43mhandle\u001b[49m\u001b[43m)\u001b[49m)\n\u001b[1;32m   1921\u001b[0m \u001b[38;5;28;01melse\u001b[39;00m:\n\u001b[1;32m   1922\u001b[0m     pred \u001b[38;5;241m=\u001b[39m \u001b[38;5;28mself\u001b[39m\u001b[38;5;241m.\u001b[39mpredict(dtrain, output_margin\u001b[38;5;241m=\u001b[39m\u001b[38;5;28;01mTrue\u001b[39;00m, training\u001b[38;5;241m=\u001b[39m\u001b[38;5;28;01mTrue\u001b[39;00m)\n",
      "\u001b[0;31mKeyboardInterrupt\u001b[0m: "
     ]
    }
   ],
   "source": [
    "# Parameter's to search\n",
    "learning_rate = [0.0001, 0.0005, 0.001, 0.005, 0.01, 0.05, 0.1, 0.2]\n",
    "n_estimators = [10, 25, 50, 75, 100, 250, 500, 750, 1000]\n",
    "gamma = [i*0.1 for i in range(0,5)]\n",
    "subsample = [0.6, 0.65, 0.7, 0.75, 0.8, 0.85, 0.9, 0.95, 1]\n",
    "colsample_bytree = [0.6, 0.65, 0.7, 0.75, 0.8, 0.85, 0.9, 0.95, 1]\n",
    "reg_alpha = [1e-5, 1e-2,0, 0.1, 1, 100] \n",
    "# Setting up parameter grid\n",
    "hyperparams = {'learning_rate': learning_rate, 'n_estimators': n_estimators,'gamma': gamma,'subsample': subsample, 'colsample_bytree': colsample_bytree,'reg_alpha': reg_alpha}\n",
    "\n",
    "# Run GridSearch CV\n",
    "gd=GridSearchCV(estimator = XGBClassifier(), param_grid = hyperparams, \n",
    "                verbose=True, cv=5, scoring = \"accuracy\")\n",
    "\n",
    "# Fitting model and return results\n",
    "gd.fit(X_train, y_train)\n",
    "print(gd.best_score_)\n",
    "print(gd.best_estimator_)\n",
    "models.append(gd.best_estimator_)"
   ]
  },
  {
   "cell_type": "code",
   "execution_count": null,
   "id": "5763e48e",
   "metadata": {
    "execution": {
     "iopub.execute_input": "2023-05-14T16:24:45.762636Z",
     "iopub.status.busy": "2023-05-14T16:24:45.762360Z",
     "iopub.status.idle": "2023-05-14T16:27:49.350692Z",
     "shell.execute_reply": "2023-05-14T16:27:49.349777Z",
     "shell.execute_reply.started": "2023-05-14T16:24:45.762609Z"
    }
   },
   "outputs": [],
   "source": [
    "\n"
   ]
  },
  {
   "cell_type": "code",
   "execution_count": null,
   "id": "ccee618c",
   "metadata": {
    "execution": {
     "iopub.execute_input": "2023-05-14T16:34:14.114259Z",
     "iopub.status.busy": "2023-05-14T16:34:14.113859Z",
     "iopub.status.idle": "2023-05-14T16:34:37.579294Z",
     "shell.execute_reply": "2023-05-14T16:34:37.577952Z",
     "shell.execute_reply.started": "2023-05-14T16:34:14.114215Z"
    }
   },
   "outputs": [],
   "source": []
  },
  {
   "cell_type": "code",
   "execution_count": null,
   "id": "2716a15b",
   "metadata": {
    "execution": {
     "iopub.execute_input": "2023-05-14T16:36:47.054601Z",
     "iopub.status.busy": "2023-05-14T16:36:47.054220Z",
     "iopub.status.idle": "2023-05-14T16:42:30.048514Z",
     "shell.execute_reply": "2023-05-14T16:42:30.046631Z",
     "shell.execute_reply.started": "2023-05-14T16:36:47.054568Z"
    }
   },
   "outputs": [],
   "source": [
    "\n"
   ]
  },
  {
   "cell_type": "code",
   "execution_count": null,
   "id": "7d6f01d7",
   "metadata": {},
   "outputs": [],
   "source": []
  },
  {
   "cell_type": "code",
   "execution_count": null,
   "id": "0a6f25be",
   "metadata": {
    "execution": {
     "iopub.execute_input": "2023-05-14T16:48:42.157164Z",
     "iopub.status.busy": "2023-05-14T16:48:42.156821Z",
     "iopub.status.idle": "2023-05-14T16:49:09.159150Z",
     "shell.execute_reply": "2023-05-14T16:49:09.158197Z",
     "shell.execute_reply.started": "2023-05-14T16:48:42.157137Z"
    }
   },
   "outputs": [],
   "source": []
  },
  {
   "cell_type": "code",
   "execution_count": 78,
   "id": "82fffb51",
   "metadata": {
    "execution": {
     "iopub.execute_input": "2023-05-14T16:28:04.504115Z",
     "iopub.status.busy": "2023-05-14T16:28:04.503028Z",
     "iopub.status.idle": "2023-05-14T16:28:11.923639Z",
     "shell.execute_reply": "2023-05-14T16:28:11.922849Z",
     "shell.execute_reply.started": "2023-05-14T16:28:04.504078Z"
    }
   },
   "outputs": [
    {
     "name": "stdout",
     "output_type": "stream",
     "text": [
      "Fitting 5 folds for each of 64 candidates, totalling 320 fits\n",
      "0.9398417721518987\n",
      "GaussianProcessClassifier(max_iter_predict=1, warm_start=True)\n"
     ]
    }
   ],
   "source": [
    "n_restarts_optimizer = [0, 1, 2, 3]\n",
    "max_iter_predict = [1, 2, 5, 10, 20, 35, 50, 100]\n",
    "warm_start = [True, False]\n",
    "\n",
    "# Setting up parameter grid\n",
    "hyperparams = {'n_restarts_optimizer': n_restarts_optimizer, 'max_iter_predict': max_iter_predict, 'warm_start': warm_start}\n",
    "\n",
    "# Run GridSearch CV\n",
    "gd=GridSearchCV(estimator = GaussianProcessClassifier(), param_grid = hyperparams, \n",
    "                verbose=True, cv=5, scoring = \"accuracy\")\n",
    "\n",
    "# Fitting model and return results\n",
    "gd.fit(X_train, y_train)\n",
    "print(gd.best_score_)\n",
    "print(gd.best_estimator_)\n",
    "\n",
    "models.append(gd.best_estimator_)"
   ]
  },
  {
   "cell_type": "code",
   "execution_count": 79,
   "id": "87ef5075",
   "metadata": {
    "execution": {
     "iopub.execute_input": "2023-05-14T16:28:11.925499Z",
     "iopub.status.busy": "2023-05-14T16:28:11.924736Z",
     "iopub.status.idle": "2023-05-14T16:28:58.479654Z",
     "shell.execute_reply": "2023-05-14T16:28:58.478466Z",
     "shell.execute_reply.started": "2023-05-14T16:28:11.925466Z"
    }
   },
   "outputs": [
    {
     "name": "stdout",
     "output_type": "stream",
     "text": [
      "Fitting 5 folds for each of 56 candidates, totalling 280 fits\n",
      "0.9548101265822785\n",
      "AdaBoostClassifier(learning_rate=0.1, n_estimators=200)\n"
     ]
    }
   ],
   "source": [
    "# Parameter's to search\n",
    "n_estimators = [10, 25, 50, 75, 100, 125, 150, 200]\n",
    "learning_rate = [0.001, 0.01, 0.1, 0.5, 1, 1.5, 2]\n",
    "\n",
    "# Setting up parameter grid\n",
    "hyperparams = {'n_estimators': n_estimators, 'learning_rate': learning_rate}\n",
    "\n",
    "# Run GridSearch CV\n",
    "gd=GridSearchCV(estimator = AdaBoostClassifier(), param_grid = hyperparams, \n",
    "                verbose=True, cv=5, scoring = \"accuracy\")\n",
    "\n",
    "# Fitting model and return results\n",
    "gd.fit(X_train, y_train)\n",
    "print(gd.best_score_)\n",
    "print(gd.best_estimator_)\n",
    "models.append(gd.best_estimator_)"
   ]
  },
  {
   "cell_type": "code",
   "execution_count": 80,
   "id": "79c5d9e7",
   "metadata": {
    "execution": {
     "iopub.execute_input": "2023-05-14T16:28:58.481402Z",
     "iopub.status.busy": "2023-05-14T16:28:58.481068Z",
     "iopub.status.idle": "2023-05-14T16:29:07.929254Z",
     "shell.execute_reply": "2023-05-14T16:29:07.928473Z",
     "shell.execute_reply.started": "2023-05-14T16:28:58.481339Z"
    }
   },
   "outputs": [
    {
     "name": "stdout",
     "output_type": "stream",
     "text": [
      "Fitting 5 folds for each of 300 candidates, totalling 1500 fits\n",
      "0.9498734177215189\n",
      "KNeighborsClassifier(leaf_size=1, n_neighbors=8)\n"
     ]
    }
   ],
   "source": [
    "n_neighbors = [1, 2, 3, 4, 5, 6, 7, 8, 9, 10, 12, 14, 16, 18, 20]\n",
    "algorithm = ['auto']\n",
    "weights = ['uniform', 'distance']\n",
    "leaf_size = [1, 2, 3, 4, 5, 10, 15, 20, 25, 30]\n",
    "\n",
    "# Setting up parameter grid\n",
    "hyperparams = {'algorithm': algorithm, 'weights': weights, 'leaf_size': leaf_size, \n",
    "               'n_neighbors': n_neighbors}\n",
    "\n",
    "# Run GridSearch CV\n",
    "gd=GridSearchCV(estimator = KNeighborsClassifier(), param_grid = hyperparams, \n",
    "                verbose=True, cv=5, scoring = \"accuracy\")\n",
    "\n",
    "# Fitting model and return results\n",
    "gd.fit(X_train, y_train)\n",
    "print(gd.best_score_)\n",
    "print(gd.best_estimator_)\n",
    "models.append(gd.best_estimator_)"
   ]
  },
  {
   "cell_type": "code",
   "execution_count": 81,
   "id": "fe0c12e8",
   "metadata": {
    "execution": {
     "iopub.execute_input": "2023-05-14T16:34:04.252066Z",
     "iopub.status.busy": "2023-05-14T16:34:04.251632Z",
     "iopub.status.idle": "2023-05-14T16:34:05.758655Z",
     "shell.execute_reply": "2023-05-14T16:34:05.757117Z",
     "shell.execute_reply.started": "2023-05-14T16:34:04.252030Z"
    }
   },
   "outputs": [
    {
     "name": "stdout",
     "output_type": "stream",
     "text": [
      "Fitting 5 folds for each of 1000 candidates, totalling 5000 fits\n",
      "0.9674683544303797\n",
      "RandomForestClassifier(max_features=1, min_samples_leaf=2, min_samples_split=10)\n"
     ]
    }
   ],
   "source": [
    "n_estimators = [10, 25, 50, 75, 100]\n",
    "max_depth = [3, None]\n",
    "max_features = [1, 3, 5, 7]\n",
    "min_samples_split = [2, 4, 6, 8, 10]\n",
    "min_samples_leaf = [2, 4, 6, 8, 10]\n",
    "\n",
    "# Setting up parameter grid\n",
    "hyperparams = {'n_estimators': n_estimators, 'max_depth': max_depth, 'max_features': max_features,\n",
    "               'min_samples_split': min_samples_split, 'min_samples_leaf': min_samples_leaf}\n",
    "\n",
    "# Run GridSearch CV\n",
    "gd=GridSearchCV(estimator = RandomForestClassifier(), param_grid = hyperparams, \n",
    "                verbose=True, cv=5, scoring = \"accuracy\")\n",
    "\n",
    "# Fitting model and return results\n",
    "gd.fit(X_train, y_train)\n",
    "print(gd.best_score_)\n",
    "print(gd.best_estimator_)\n",
    "models.append(gd.best_estimator_)"
   ]
  },
  {
   "cell_type": "code",
   "execution_count": 82,
   "id": "ec4099d1",
   "metadata": {
    "execution": {
     "iopub.status.busy": "2023-05-14T16:34:02.019422Z",
     "iopub.status.idle": "2023-05-14T16:34:02.019753Z",
     "shell.execute_reply": "2023-05-14T16:34:02.019612Z",
     "shell.execute_reply.started": "2023-05-14T16:34:02.019593Z"
    }
   },
   "outputs": [
    {
     "name": "stdout",
     "output_type": "stream",
     "text": [
      "Fitting 5 folds for each of 1000 candidates, totalling 5000 fits\n",
      "0.9674683544303797\n",
      "ExtraTreesClassifier(max_features=5, min_samples_leaf=2)\n"
     ]
    }
   ],
   "source": [
    "# Parameter's to search\n",
    "n_estimators = [10, 25, 50, 75, 100]\n",
    "max_depth = [3, None]\n",
    "max_features = [1, 3, 5, 7]\n",
    "min_samples_split = [2, 4, 6, 8, 10]\n",
    "min_samples_leaf = [2, 4, 6, 8, 10]\n",
    "\n",
    "# Setting up parameter grid\n",
    "hyperparams = {'n_estimators': n_estimators, 'max_depth': max_depth, 'max_features': max_features,\n",
    "               'min_samples_split': min_samples_split, 'min_samples_leaf': min_samples_leaf}\n",
    "\n",
    "# Run GridSearch CV\n",
    "gd=GridSearchCV(estimator = ExtraTreesClassifier(), param_grid = hyperparams, \n",
    "                verbose=True, cv=5, scoring = \"accuracy\")\n",
    "\n",
    "# Fitting model and return results\n",
    "gd.fit(X_train, y_train)\n",
    "print(gd.best_score_)\n",
    "print(gd.best_estimator_)\n",
    "models.append(gd.best_estimator_)"
   ]
  },
  {
   "cell_type": "code",
   "execution_count": 83,
   "id": "1ed8e7e2",
   "metadata": {
    "execution": {
     "iopub.status.busy": "2023-05-14T16:34:02.021154Z",
     "iopub.status.idle": "2023-05-14T16:34:02.022087Z",
     "shell.execute_reply": "2023-05-14T16:34:02.021940Z",
     "shell.execute_reply.started": "2023-05-14T16:34:02.021920Z"
    }
   },
   "outputs": [
    {
     "name": "stdout",
     "output_type": "stream",
     "text": [
      "Fitting 5 folds for each of 352 candidates, totalling 1760 fits\n",
      "0.9523417721518987\n",
      "BaggingClassifier(max_features=3, max_samples=50, n_estimators=100)\n"
     ]
    }
   ],
   "source": [
    "# Parameter's to search\n",
    "n_estimators = [10, 15, 20, 25, 50, 75, 100, 150]\n",
    "max_samples = [1, 2, 3, 5, 7, 10, 15, 20, 25, 30, 50]\n",
    "max_features = [1, 3, 5, 7]\n",
    "\n",
    "# Setting up parameter grid\n",
    "hyperparams = {'n_estimators': n_estimators, 'max_samples': max_samples, 'max_features': max_features}\n",
    "\n",
    "# Run GridSearch CV\n",
    "gd=GridSearchCV(estimator = BaggingClassifier(), param_grid = hyperparams, \n",
    "                verbose=True, cv=5, scoring = \"accuracy\")\n",
    "\n",
    "# Fitting model and return results\n",
    "gd.fit(X_train, y_train)\n",
    "print(gd.best_score_)\n",
    "print(gd.best_estimator_)\n",
    "models.append(gd.best_estimator_)"
   ]
  },
  {
   "cell_type": "code",
   "execution_count": 92,
   "id": "4d0c9e9c",
   "metadata": {},
   "outputs": [
    {
     "name": "stdout",
     "output_type": "stream",
     "text": [
      "[SVC(C=15, gamma=0.001, probability=True), LogisticRegression(C=2.7825594022071245), KNeighborsClassifier(leaf_size=1, n_neighbors=8), GradientBoostingClassifier(learning_rate=0.2, n_estimators=1500), GaussianProcessClassifier(max_iter_predict=1, warm_start=True), AdaBoostClassifier(learning_rate=0.1, n_estimators=200), KNeighborsClassifier(leaf_size=1, n_neighbors=8), RandomForestClassifier(max_features=1, min_samples_leaf=2, min_samples_split=10), ExtraTreesClassifier(max_features=5, min_samples_leaf=2), BaggingClassifier(max_features=3, max_samples=50, n_estimators=100)]\n"
     ]
    }
   ],
   "source": [
    "\n"
   ]
  },
  {
   "cell_type": "code",
   "execution_count": 96,
   "id": "67b27656",
   "metadata": {
    "execution": {
     "iopub.status.busy": "2023-05-14T16:34:02.023068Z",
     "iopub.status.idle": "2023-05-14T16:34:02.023417Z",
     "shell.execute_reply": "2023-05-14T16:34:02.023274Z",
     "shell.execute_reply.started": "2023-05-14T16:34:02.023256Z"
    }
   },
   "outputs": [],
   "source": [
    "scores_v3 = []\n",
    "\n",
    "for mod in models:\n",
    "    mod.fit(X_train, y_train)\n",
    "    acc = cross_val_score(mod, X_test, y_test, scoring = \"accuracy\", cv = 10)\n",
    "    scores_v3.append(acc.mean())\n",
    " "
   ]
  },
  {
   "cell_type": "code",
   "execution_count": 97,
   "id": "82b7c2f6",
   "metadata": {
    "execution": {
     "iopub.status.busy": "2023-05-14T16:34:02.024566Z",
     "iopub.status.idle": "2023-05-14T16:34:02.024890Z",
     "shell.execute_reply": "2023-05-14T16:34:02.024752Z",
     "shell.execute_reply.started": "2023-05-14T16:34:02.024733Z"
    },
    "scrolled": true
   },
   "outputs": [
    {
     "data": {
      "text/html": [
       "<div>\n",
       "<style scoped>\n",
       "    .dataframe tbody tr th:only-of-type {\n",
       "        vertical-align: middle;\n",
       "    }\n",
       "\n",
       "    .dataframe tbody tr th {\n",
       "        vertical-align: top;\n",
       "    }\n",
       "\n",
       "    .dataframe thead th {\n",
       "        text-align: right;\n",
       "    }\n",
       "</style>\n",
       "<table border=\"1\" class=\"dataframe\">\n",
       "  <thead>\n",
       "    <tr style=\"text-align: right;\">\n",
       "      <th></th>\n",
       "      <th>Model</th>\n",
       "      <th>Score with tuned parameters</th>\n",
       "    </tr>\n",
       "  </thead>\n",
       "  <tbody>\n",
       "    <tr>\n",
       "      <th>0</th>\n",
       "      <td>Extra Trees</td>\n",
       "      <td>0.965033</td>\n",
       "    </tr>\n",
       "    <tr>\n",
       "      <th>1</th>\n",
       "      <td>AdaBoost</td>\n",
       "      <td>0.965033</td>\n",
       "    </tr>\n",
       "    <tr>\n",
       "      <th>2</th>\n",
       "      <td>XGBoost</td>\n",
       "      <td>0.959477</td>\n",
       "    </tr>\n",
       "    <tr>\n",
       "      <th>3</th>\n",
       "      <td>Logistic Regression</td>\n",
       "      <td>0.959150</td>\n",
       "    </tr>\n",
       "    <tr>\n",
       "      <th>4</th>\n",
       "      <td>Random Forest</td>\n",
       "      <td>0.947712</td>\n",
       "    </tr>\n",
       "    <tr>\n",
       "      <th>5</th>\n",
       "      <td>Bagging Classifier</td>\n",
       "      <td>0.947712</td>\n",
       "    </tr>\n",
       "    <tr>\n",
       "      <th>6</th>\n",
       "      <td>K Nearest Neighbour</td>\n",
       "      <td>0.941503</td>\n",
       "    </tr>\n",
       "    <tr>\n",
       "      <th>7</th>\n",
       "      <td>SVC</td>\n",
       "      <td>0.941503</td>\n",
       "    </tr>\n",
       "    <tr>\n",
       "      <th>8</th>\n",
       "      <td>Gaussian Process</td>\n",
       "      <td>0.941503</td>\n",
       "    </tr>\n",
       "    <tr>\n",
       "      <th>9</th>\n",
       "      <td>Gradient Boosting</td>\n",
       "      <td>0.935948</td>\n",
       "    </tr>\n",
       "    <tr>\n",
       "      <th>10</th>\n",
       "      <td>Gaussian Naive Bayes</td>\n",
       "      <td>0.906536</td>\n",
       "    </tr>\n",
       "  </tbody>\n",
       "</table>\n",
       "</div>"
      ],
      "text/plain": [
       "                   Model  Score with tuned parameters\n",
       "0            Extra Trees                     0.965033\n",
       "1               AdaBoost                     0.965033\n",
       "2                XGBoost                     0.959477\n",
       "3    Logistic Regression                     0.959150\n",
       "4          Random Forest                     0.947712\n",
       "5     Bagging Classifier                     0.947712\n",
       "6    K Nearest Neighbour                     0.941503\n",
       "7                    SVC                     0.941503\n",
       "8       Gaussian Process                     0.941503\n",
       "9      Gradient Boosting                     0.935948\n",
       "10  Gaussian Naive Bayes                     0.906536"
      ]
     },
     "execution_count": 97,
     "metadata": {},
     "output_type": "execute_result"
    }
   ],
   "source": [
    "results = pd.DataFrame({\n",
    "    'Model': ['Random Forest', 'K Nearest Neighbour', 'Logistic Regression', 'XGBoost', 'Gradient Boosting', 'SVC', 'Extra Trees', 'AdaBoost', 'Gaussian Naive Bayes', 'Gaussian Process', 'Bagging Classifier'],\n",
    "    'Score with tuned parameters': scores_v3})\n",
    "\n",
    "result_df = results.sort_values(by='Score with tuned parameters', ascending=False).reset_index(drop=True)\n",
    "result_df.head(11)"
   ]
  },
  {
   "cell_type": "code",
   "execution_count": null,
   "id": "c54da0d8",
   "metadata": {},
   "outputs": [],
   "source": []
  },
  {
   "cell_type": "code",
   "execution_count": 100,
   "id": "d43cbb70",
   "metadata": {},
   "outputs": [
    {
     "name": "stdout",
     "output_type": "stream",
     "text": [
      "[RandomForestClassifier(random_state=1), KNeighborsClassifier(), LogisticRegression(), XGBClassifier(base_score=None, booster=None, callbacks=None,\n",
      "              colsample_bylevel=None, colsample_bynode=None,\n",
      "              colsample_bytree=None, early_stopping_rounds=None,\n",
      "              enable_categorical=False, eval_metric=None, feature_types=None,\n",
      "              gamma=None, gpu_id=None, grow_policy=None, importance_type=None,\n",
      "              interaction_constraints=None, learning_rate=None, max_bin=None,\n",
      "              max_cat_threshold=None, max_cat_to_onehot=None,\n",
      "              max_delta_step=None, max_depth=None, max_leaves=None,\n",
      "              min_child_weight=None, missing=nan, monotone_constraints=None,\n",
      "              n_estimators=100, n_jobs=None, num_parallel_tree=None,\n",
      "              predictor=None, random_state=None, ...), GradientBoostingClassifier(), SVC(probability=True), ExtraTreesClassifier(), AdaBoostClassifier(), GaussianNB(), GaussianProcessClassifier(), BaggingClassifier()]\n"
     ]
    }
   ],
   "source": [
    "print(models)"
   ]
  },
  {
   "cell_type": "code",
   "execution_count": 104,
   "id": "ab5d8621",
   "metadata": {
    "execution": {
     "iopub.status.busy": "2023-05-14T16:34:02.025658Z",
     "iopub.status.idle": "2023-05-14T16:34:02.025966Z",
     "shell.execute_reply": "2023-05-14T16:34:02.025829Z",
     "shell.execute_reply.started": "2023-05-14T16:34:02.025811Z"
    }
   },
   "outputs": [
    {
     "ename": "ValueError",
     "evalue": "Names provided are not unique: ['svc', 'logreg', 'knn', 'gbc', 'gpc', 'ada', 'knn', 'ran', 'ext', 'bag']",
     "output_type": "error",
     "traceback": [
      "\u001b[0;31m---------------------------------------------------------------------------\u001b[0m",
      "\u001b[0;31mValueError\u001b[0m                                Traceback (most recent call last)",
      "Cell \u001b[0;32mIn[104], line 4\u001b[0m\n\u001b[1;32m      1\u001b[0m \u001b[38;5;28;01mfrom\u001b[39;00m \u001b[38;5;21;01msklearn\u001b[39;00m\u001b[38;5;21;01m.\u001b[39;00m\u001b[38;5;21;01mmetrics\u001b[39;00m \u001b[38;5;28;01mimport\u001b[39;00m confusion_matrix\n\u001b[1;32m      2\u001b[0m grid_hard \u001b[38;5;241m=\u001b[39m VotingClassifier(estimators \u001b[38;5;241m=\u001b[39m [(\u001b[38;5;124m'\u001b[39m\u001b[38;5;124msvc\u001b[39m\u001b[38;5;124m'\u001b[39m,SVC(C\u001b[38;5;241m=\u001b[39m\u001b[38;5;241m15\u001b[39m, gamma\u001b[38;5;241m=\u001b[39m\u001b[38;5;241m0.001\u001b[39m, probability\u001b[38;5;241m=\u001b[39m\u001b[38;5;28;01mTrue\u001b[39;00m)), (\u001b[38;5;124m'\u001b[39m\u001b[38;5;124mlogreg\u001b[39m\u001b[38;5;124m'\u001b[39m,LogisticRegression(C\u001b[38;5;241m=\u001b[39m\u001b[38;5;241m2.7825594022071245\u001b[39m)), (\u001b[38;5;124m'\u001b[39m\u001b[38;5;124mknn\u001b[39m\u001b[38;5;124m'\u001b[39m,KNeighborsClassifier(leaf_size\u001b[38;5;241m=\u001b[39m\u001b[38;5;241m1\u001b[39m, n_neighbors\u001b[38;5;241m=\u001b[39m\u001b[38;5;241m8\u001b[39m)), (\u001b[38;5;124m'\u001b[39m\u001b[38;5;124mgbc\u001b[39m\u001b[38;5;124m'\u001b[39m,GradientBoostingClassifier(learning_rate\u001b[38;5;241m=\u001b[39m\u001b[38;5;241m0.2\u001b[39m, n_estimators\u001b[38;5;241m=\u001b[39m\u001b[38;5;241m1500\u001b[39m)), (\u001b[38;5;124m'\u001b[39m\u001b[38;5;124mgpc\u001b[39m\u001b[38;5;124m'\u001b[39m,GaussianProcessClassifier(max_iter_predict\u001b[38;5;241m=\u001b[39m\u001b[38;5;241m1\u001b[39m, warm_start\u001b[38;5;241m=\u001b[39m\u001b[38;5;28;01mTrue\u001b[39;00m)),(\u001b[38;5;124m'\u001b[39m\u001b[38;5;124mada\u001b[39m\u001b[38;5;124m'\u001b[39m, AdaBoostClassifier(learning_rate\u001b[38;5;241m=\u001b[39m\u001b[38;5;241m0.1\u001b[39m, n_estimators\u001b[38;5;241m=\u001b[39m\u001b[38;5;241m200\u001b[39m)), (\u001b[38;5;124m'\u001b[39m\u001b[38;5;124mknn\u001b[39m\u001b[38;5;124m'\u001b[39m,KNeighborsClassifier(leaf_size\u001b[38;5;241m=\u001b[39m\u001b[38;5;241m1\u001b[39m, n_neighbors\u001b[38;5;241m=\u001b[39m\u001b[38;5;241m8\u001b[39m)), (\u001b[38;5;124m'\u001b[39m\u001b[38;5;124mran\u001b[39m\u001b[38;5;124m'\u001b[39m,RandomForestClassifier(max_features\u001b[38;5;241m=\u001b[39m\u001b[38;5;241m1\u001b[39m, min_samples_leaf\u001b[38;5;241m=\u001b[39m\u001b[38;5;241m2\u001b[39m, min_samples_split\u001b[38;5;241m=\u001b[39m\u001b[38;5;241m10\u001b[39m)),(\u001b[38;5;124m'\u001b[39m\u001b[38;5;124mext\u001b[39m\u001b[38;5;124m'\u001b[39m, ExtraTreesClassifier(max_features\u001b[38;5;241m=\u001b[39m\u001b[38;5;241m5\u001b[39m, min_samples_leaf\u001b[38;5;241m=\u001b[39m\u001b[38;5;241m2\u001b[39m)),(\u001b[38;5;124m'\u001b[39m\u001b[38;5;124mbag\u001b[39m\u001b[38;5;124m'\u001b[39m, BaggingClassifier(max_features\u001b[38;5;241m=\u001b[39m\u001b[38;5;241m3\u001b[39m, max_samples\u001b[38;5;241m=\u001b[39m\u001b[38;5;241m50\u001b[39m, n_estimators\u001b[38;5;241m=\u001b[39m\u001b[38;5;241m100\u001b[39m))]\n\u001b[1;32m      3\u001b[0m , voting \u001b[38;5;241m=\u001b[39m \u001b[38;5;124m'\u001b[39m\u001b[38;5;124mhard\u001b[39m\u001b[38;5;124m'\u001b[39m)\n\u001b[0;32m----> 4\u001b[0m \u001b[43mgrid_hard\u001b[49m\u001b[38;5;241;43m.\u001b[39;49m\u001b[43mfit\u001b[49m\u001b[43m(\u001b[49m\u001b[43mX_train\u001b[49m\u001b[43m,\u001b[49m\u001b[43m \u001b[49m\u001b[43my_train\u001b[49m\u001b[43m)\u001b[49m\n\u001b[1;32m      5\u001b[0m \u001b[38;5;28mprint\u001b[39m(\u001b[38;5;124m'\u001b[39m\u001b[38;5;124mVotingClassifierModel Train Score is : \u001b[39m\u001b[38;5;124m'\u001b[39m , grid_hard\u001b[38;5;241m.\u001b[39mscore(X_train, y_train))\n\u001b[1;32m      6\u001b[0m \u001b[38;5;28mprint\u001b[39m(\u001b[38;5;124m'\u001b[39m\u001b[38;5;124mVotingClassifierModel Test Score is : \u001b[39m\u001b[38;5;124m'\u001b[39m , grid_hard\u001b[38;5;241m.\u001b[39mscore(X_test, y_test))\n",
      "File \u001b[0;32m~/.local/lib/python3.10/site-packages/sklearn/ensemble/_voting.py:346\u001b[0m, in \u001b[0;36mVotingClassifier.fit\u001b[0;34m(self, X, y, sample_weight)\u001b[0m\n\u001b[1;32m    343\u001b[0m \u001b[38;5;28mself\u001b[39m\u001b[38;5;241m.\u001b[39mclasses_ \u001b[38;5;241m=\u001b[39m \u001b[38;5;28mself\u001b[39m\u001b[38;5;241m.\u001b[39mle_\u001b[38;5;241m.\u001b[39mclasses_\n\u001b[1;32m    344\u001b[0m transformed_y \u001b[38;5;241m=\u001b[39m \u001b[38;5;28mself\u001b[39m\u001b[38;5;241m.\u001b[39mle_\u001b[38;5;241m.\u001b[39mtransform(y)\n\u001b[0;32m--> 346\u001b[0m \u001b[38;5;28;01mreturn\u001b[39;00m \u001b[38;5;28;43msuper\u001b[39;49m\u001b[43m(\u001b[49m\u001b[43m)\u001b[49m\u001b[38;5;241;43m.\u001b[39;49m\u001b[43mfit\u001b[49m\u001b[43m(\u001b[49m\u001b[43mX\u001b[49m\u001b[43m,\u001b[49m\u001b[43m \u001b[49m\u001b[43mtransformed_y\u001b[49m\u001b[43m,\u001b[49m\u001b[43m \u001b[49m\u001b[43msample_weight\u001b[49m\u001b[43m)\u001b[49m\n",
      "File \u001b[0;32m~/.local/lib/python3.10/site-packages/sklearn/ensemble/_voting.py:73\u001b[0m, in \u001b[0;36m_BaseVoting.fit\u001b[0;34m(self, X, y, sample_weight)\u001b[0m\n\u001b[1;32m     70\u001b[0m \u001b[38;5;129m@abstractmethod\u001b[39m\n\u001b[1;32m     71\u001b[0m \u001b[38;5;28;01mdef\u001b[39;00m \u001b[38;5;21mfit\u001b[39m(\u001b[38;5;28mself\u001b[39m, X, y, sample_weight\u001b[38;5;241m=\u001b[39m\u001b[38;5;28;01mNone\u001b[39;00m):\n\u001b[1;32m     72\u001b[0m \u001b[38;5;250m    \u001b[39m\u001b[38;5;124;03m\"\"\"Get common fit operations.\"\"\"\u001b[39;00m\n\u001b[0;32m---> 73\u001b[0m     names, clfs \u001b[38;5;241m=\u001b[39m \u001b[38;5;28;43mself\u001b[39;49m\u001b[38;5;241;43m.\u001b[39;49m\u001b[43m_validate_estimators\u001b[49m\u001b[43m(\u001b[49m\u001b[43m)\u001b[49m\n\u001b[1;32m     75\u001b[0m     \u001b[38;5;28;01mif\u001b[39;00m \u001b[38;5;28mself\u001b[39m\u001b[38;5;241m.\u001b[39mweights \u001b[38;5;129;01mis\u001b[39;00m \u001b[38;5;129;01mnot\u001b[39;00m \u001b[38;5;28;01mNone\u001b[39;00m \u001b[38;5;129;01mand\u001b[39;00m \u001b[38;5;28mlen\u001b[39m(\u001b[38;5;28mself\u001b[39m\u001b[38;5;241m.\u001b[39mweights) \u001b[38;5;241m!=\u001b[39m \u001b[38;5;28mlen\u001b[39m(\u001b[38;5;28mself\u001b[39m\u001b[38;5;241m.\u001b[39mestimators):\n\u001b[1;32m     76\u001b[0m         \u001b[38;5;28;01mraise\u001b[39;00m \u001b[38;5;167;01mValueError\u001b[39;00m(\n\u001b[1;32m     77\u001b[0m             \u001b[38;5;124m\"\u001b[39m\u001b[38;5;124mNumber of `estimators` and weights must be equal; got\u001b[39m\u001b[38;5;124m\"\u001b[39m\n\u001b[1;32m     78\u001b[0m             \u001b[38;5;124mf\u001b[39m\u001b[38;5;124m\"\u001b[39m\u001b[38;5;124m \u001b[39m\u001b[38;5;132;01m{\u001b[39;00m\u001b[38;5;28mlen\u001b[39m(\u001b[38;5;28mself\u001b[39m\u001b[38;5;241m.\u001b[39mweights)\u001b[38;5;132;01m}\u001b[39;00m\u001b[38;5;124m weights, \u001b[39m\u001b[38;5;132;01m{\u001b[39;00m\u001b[38;5;28mlen\u001b[39m(\u001b[38;5;28mself\u001b[39m\u001b[38;5;241m.\u001b[39mestimators)\u001b[38;5;132;01m}\u001b[39;00m\u001b[38;5;124m estimators\u001b[39m\u001b[38;5;124m\"\u001b[39m\n\u001b[1;32m     79\u001b[0m         )\n",
      "File \u001b[0;32m~/.local/lib/python3.10/site-packages/sklearn/ensemble/_base.py:284\u001b[0m, in \u001b[0;36m_BaseHeterogeneousEnsemble._validate_estimators\u001b[0;34m(self)\u001b[0m\n\u001b[1;32m    282\u001b[0m names, estimators \u001b[38;5;241m=\u001b[39m \u001b[38;5;28mzip\u001b[39m(\u001b[38;5;241m*\u001b[39m\u001b[38;5;28mself\u001b[39m\u001b[38;5;241m.\u001b[39mestimators)\n\u001b[1;32m    283\u001b[0m \u001b[38;5;66;03m# defined by MetaEstimatorMixin\u001b[39;00m\n\u001b[0;32m--> 284\u001b[0m \u001b[38;5;28;43mself\u001b[39;49m\u001b[38;5;241;43m.\u001b[39;49m\u001b[43m_validate_names\u001b[49m\u001b[43m(\u001b[49m\u001b[43mnames\u001b[49m\u001b[43m)\u001b[49m\n\u001b[1;32m    286\u001b[0m has_estimator \u001b[38;5;241m=\u001b[39m \u001b[38;5;28many\u001b[39m(est \u001b[38;5;241m!=\u001b[39m \u001b[38;5;124m\"\u001b[39m\u001b[38;5;124mdrop\u001b[39m\u001b[38;5;124m\"\u001b[39m \u001b[38;5;28;01mfor\u001b[39;00m est \u001b[38;5;129;01min\u001b[39;00m estimators)\n\u001b[1;32m    287\u001b[0m \u001b[38;5;28;01mif\u001b[39;00m \u001b[38;5;129;01mnot\u001b[39;00m has_estimator:\n",
      "File \u001b[0;32m~/.local/lib/python3.10/site-packages/sklearn/utils/metaestimators.py:84\u001b[0m, in \u001b[0;36m_BaseComposition._validate_names\u001b[0;34m(self, names)\u001b[0m\n\u001b[1;32m     82\u001b[0m \u001b[38;5;28;01mdef\u001b[39;00m \u001b[38;5;21m_validate_names\u001b[39m(\u001b[38;5;28mself\u001b[39m, names):\n\u001b[1;32m     83\u001b[0m     \u001b[38;5;28;01mif\u001b[39;00m \u001b[38;5;28mlen\u001b[39m(\u001b[38;5;28mset\u001b[39m(names)) \u001b[38;5;241m!=\u001b[39m \u001b[38;5;28mlen\u001b[39m(names):\n\u001b[0;32m---> 84\u001b[0m         \u001b[38;5;28;01mraise\u001b[39;00m \u001b[38;5;167;01mValueError\u001b[39;00m(\u001b[38;5;124m\"\u001b[39m\u001b[38;5;124mNames provided are not unique: \u001b[39m\u001b[38;5;132;01m{0!r}\u001b[39;00m\u001b[38;5;124m\"\u001b[39m\u001b[38;5;241m.\u001b[39mformat(\u001b[38;5;28mlist\u001b[39m(names)))\n\u001b[1;32m     85\u001b[0m     invalid_names \u001b[38;5;241m=\u001b[39m \u001b[38;5;28mset\u001b[39m(names)\u001b[38;5;241m.\u001b[39mintersection(\u001b[38;5;28mself\u001b[39m\u001b[38;5;241m.\u001b[39mget_params(deep\u001b[38;5;241m=\u001b[39m\u001b[38;5;28;01mFalse\u001b[39;00m))\n\u001b[1;32m     86\u001b[0m     \u001b[38;5;28;01mif\u001b[39;00m invalid_names:\n",
      "\u001b[0;31mValueError\u001b[0m: Names provided are not unique: ['svc', 'logreg', 'knn', 'gbc', 'gpc', 'ada', 'knn', 'ran', 'ext', 'bag']"
     ]
    }
   ],
   "source": [
    "from sklearn.metrics import confusion_matrix\n",
    "grid_hard = VotingClassifier(estimators = [('svc',SVC(C=15, gamma=0.001, probability=True)), ('logreg',LogisticRegression(C=2.7825594022071245)), ('knn',KNeighborsClassifier(leaf_size=1, n_neighbors=8)), ('gbc',GradientBoostingClassifier(learning_rate=0.2, n_estimators=1500)), ('gpc',GaussianProcessClassifier(max_iter_predict=1, warm_start=True)),('ada', AdaBoostClassifier(learning_rate=0.1, n_estimators=200)), ('knn',KNeighborsClassifier(leaf_size=1, n_neighbors=8)), ('ran',RandomForestClassifier(max_features=1, min_samples_leaf=2, min_samples_split=10)),('ext', ExtraTreesClassifier(max_features=5, min_samples_leaf=2)),('bag', BaggingClassifier(max_features=3, max_samples=50, n_estimators=100))]\n",
    ", voting = 'hard')\n",
    "grid_hard.fit(X_train, y_train)\n",
    "print('VotingClassifierModel Train Score is : ' , grid_hard.score(X_train, y_train))\n",
    "print('VotingClassifierModel Test Score is : ' , grid_hard.score(X_test, y_test))\n",
    "\n",
    "y_pred = grid_hard.predict(X_test)\n",
    "CM = confusion_matrix(y_test, y_pred)\n",
    "print('Confusion Matrix is : \\n', CM)\n",
    "report = classification_report(y_test, y_pred)\n",
    "accuracy = accuracy_score(y_test,y_pred)\n",
    "print(accuracy)\n",
    "# print the report\n",
    "print(report)\n"
   ]
  },
  {
   "cell_type": "code",
   "execution_count": null,
   "id": "70e1463e",
   "metadata": {
    "execution": {
     "iopub.status.busy": "2023-05-14T16:34:02.026671Z",
     "iopub.status.idle": "2023-05-14T16:34:02.026980Z",
     "shell.execute_reply": "2023-05-14T16:34:02.026845Z",
     "shell.execute_reply.started": "2023-05-14T16:34:02.026828Z"
    }
   },
   "outputs": [],
   "source": [
    "sns.heatmap(CM, center = True)\n",
    "plt.show()"
   ]
  },
  {
   "cell_type": "code",
   "execution_count": null,
   "id": "b2b37595",
   "metadata": {
    "execution": {
     "iopub.status.busy": "2023-05-14T16:34:02.028107Z",
     "iopub.status.idle": "2023-05-14T16:34:02.028443Z",
     "shell.execute_reply": "2023-05-14T16:34:02.028305Z",
     "shell.execute_reply.started": "2023-05-14T16:34:02.028288Z"
    }
   },
   "outputs": [],
   "source": [
    "sns.heatmap(CM, annot=True, fmt='d', cmap='Blues')"
   ]
  },
  {
   "cell_type": "code",
   "execution_count": null,
   "id": "9cd0d47c",
   "metadata": {
    "execution": {
     "iopub.status.busy": "2023-05-14T16:34:02.029415Z",
     "iopub.status.idle": "2023-05-14T16:34:02.029725Z",
     "shell.execute_reply": "2023-05-14T16:34:02.029580Z",
     "shell.execute_reply.started": "2023-05-14T16:34:02.029563Z"
    }
   },
   "outputs": [],
   "source": [
    "from sklearn.metrics import confusion_matrix\n",
    "grid_soft = VotingClassifier(estimators = [('Logistic Regression',LogisticRegression(C=2.7825594022071245)),\n",
    "                                           ('Extra Trees', ExtraTreesClassifier(max_features=3, min_samples_leaf=2)),\n",
    "                                           ('SVC', SVC(C=15, gamma=0.001, probability=True))], voting = 'hard')\n",
    "grid_soft.fit(X_train, y_train)\n",
    "\n",
    "print('VotingClassifierModel Train Score is : ' , grid_soft.score(X_train, y_train))\n",
    "print('VotingClassifierModel Test Score is : ' , grid_soft.score(X_test, y_test))\n",
    "\n",
    "y_pred = grid_soft.predict(X_test)\n",
    "CM = confusion_matrix(y_test, y_pred)\n",
    "print('Confusion Matrix is : \\n', CM)\n",
    "report = classification_report(y_test, y_pred)\n",
    "accuracy = accuracy_score(y_test,y_pred)\n",
    "print(accuracy)\n",
    "# print the report\n",
    "print(report)"
   ]
  },
  {
   "cell_type": "code",
   "execution_count": null,
   "id": "c3b18a5f",
   "metadata": {
    "execution": {
     "iopub.status.busy": "2023-05-14T16:34:02.031003Z",
     "iopub.status.idle": "2023-05-14T16:34:02.031575Z",
     "shell.execute_reply": "2023-05-14T16:34:02.031427Z",
     "shell.execute_reply.started": "2023-05-14T16:34:02.031407Z"
    }
   },
   "outputs": [],
   "source": [
    "sns.heatmap(CM, annot=True, fmt='d', cmap='Blues')"
   ]
  },
  {
   "cell_type": "code",
   "execution_count": null,
   "id": "dceea13a",
   "metadata": {},
   "outputs": [],
   "source": []
  },
  {
   "cell_type": "code",
   "execution_count": null,
   "id": "9e00d2e7",
   "metadata": {},
   "outputs": [],
   "source": []
  },
  {
   "cell_type": "code",
   "execution_count": null,
   "id": "35c93ca7",
   "metadata": {},
   "outputs": [],
   "source": []
  },
  {
   "cell_type": "code",
   "execution_count": null,
   "id": "24f6821e",
   "metadata": {},
   "outputs": [],
   "source": []
  },
  {
   "cell_type": "code",
   "execution_count": null,
   "id": "70443428",
   "metadata": {},
   "outputs": [],
   "source": []
  },
  {
   "cell_type": "code",
   "execution_count": null,
   "id": "4e0ed39a",
   "metadata": {},
   "outputs": [],
   "source": []
  }
 ],
 "metadata": {
  "kernelspec": {
   "display_name": "Python 3 (ipykernel)",
   "language": "python",
   "name": "python3"
  },
  "language_info": {
   "codemirror_mode": {
    "name": "ipython",
    "version": 3
   },
   "file_extension": ".py",
   "mimetype": "text/x-python",
   "name": "python",
   "nbconvert_exporter": "python",
   "pygments_lexer": "ipython3",
   "version": "3.10.12"
  }
 },
 "nbformat": 4,
 "nbformat_minor": 5
}
